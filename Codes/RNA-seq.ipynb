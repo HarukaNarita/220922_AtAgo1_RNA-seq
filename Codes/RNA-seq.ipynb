{
 "cells": [
  {
   "cell_type": "code",
   "execution_count": 1,
   "metadata": {},
   "outputs": [],
   "source": [
    "import pandas as pd\n",
    "import matplotlib.pyplot as plt\n",
    "import numpy as np"
   ]
  },
  {
   "cell_type": "code",
   "execution_count": 84,
   "metadata": {},
   "outputs": [],
   "source": [
    "class read_count:\n",
    "    def __init__(self, f) -> None:\n",
    "        self.f = f\n",
    "        self.name = f.split(\"/\")[5].split(\"_\")[0]\n",
    "        self.df = self.set_df()\n",
    "        pass\n",
    "\n",
    "    def set_df(self) -> pd.DataFrame:\n",
    "        df = pd.read_csv(self.f, sep=\"\\t\", skiprows=4, header=None, index_col=0, names=[\"net\", \"+\", \"-\"])\n",
    "        all_read = df[\"net\"].sum()\n",
    "        df = df / all_read * 1e06 + 1e-10\n",
    "        df[\"log2\"] = np.log(df[\"net\"]) / np.log(2)\n",
    "        return df\n"
   ]
  },
  {
   "cell_type": "code",
   "execution_count": 85,
   "metadata": {},
   "outputs": [],
   "source": [
    "f_WT = '/Users/siomi19/Desktop/AtAgo1 RNA-seq/Col_1_ReadsPerGene.out.tab'\n",
    "f_ago1 = '/Users/siomi19/Desktop/AtAgo1 RNA-seq/ago1_1_ReadsPerGene.out.tab'\n",
    "f_AGO1 = '/Users/siomi19/Desktop/AtAgo1 RNA-seq/AGO1_3_ReadsPerGene.out.tab'\n",
    "f_deltaN = '/Users/siomi19/Desktop/AtAgo1 RNA-seq/deltaN_1_9_ReadsPerGene.out.tab'\n",
    "\n",
    "WT = read_count(f_WT)\n",
    "AGO1 = read_count(f_AGO1)\n",
    "ago1 = read_count(f_ago1)\n",
    "deltaN = read_count(f_deltaN)"
   ]
  },
  {
   "cell_type": "code",
   "execution_count": 86,
   "metadata": {},
   "outputs": [
    {
     "data": {
      "text/html": [
       "<div>\n",
       "<style scoped>\n",
       "    .dataframe tbody tr th:only-of-type {\n",
       "        vertical-align: middle;\n",
       "    }\n",
       "\n",
       "    .dataframe tbody tr th {\n",
       "        vertical-align: top;\n",
       "    }\n",
       "\n",
       "    .dataframe thead th {\n",
       "        text-align: right;\n",
       "    }\n",
       "</style>\n",
       "<table border=\"1\" class=\"dataframe\">\n",
       "  <thead>\n",
       "    <tr style=\"text-align: right;\">\n",
       "      <th></th>\n",
       "      <th>net</th>\n",
       "      <th>+</th>\n",
       "      <th>-</th>\n",
       "      <th>log2</th>\n",
       "    </tr>\n",
       "  </thead>\n",
       "  <tbody>\n",
       "    <tr>\n",
       "      <th>AT1G01010</th>\n",
       "      <td>1.004545e+01</td>\n",
       "      <td>1.000000e-10</td>\n",
       "      <td>1.004545e+01</td>\n",
       "      <td>3.328471</td>\n",
       "    </tr>\n",
       "    <tr>\n",
       "      <th>AT1G01020</th>\n",
       "      <td>1.171970e+01</td>\n",
       "      <td>1.000000e-10</td>\n",
       "      <td>1.171970e+01</td>\n",
       "      <td>3.550863</td>\n",
       "    </tr>\n",
       "    <tr>\n",
       "      <th>AT1G01030</th>\n",
       "      <td>6.696969e+00</td>\n",
       "      <td>1.000000e-10</td>\n",
       "      <td>6.696969e+00</td>\n",
       "      <td>2.743508</td>\n",
       "    </tr>\n",
       "    <tr>\n",
       "      <th>AT1G01040</th>\n",
       "      <td>5.381493e+01</td>\n",
       "      <td>2.152597e+00</td>\n",
       "      <td>5.381493e+01</td>\n",
       "      <td>5.749935</td>\n",
       "    </tr>\n",
       "    <tr>\n",
       "      <th>AT1G01046</th>\n",
       "      <td>1.000000e-10</td>\n",
       "      <td>1.000000e-10</td>\n",
       "      <td>1.000000e-10</td>\n",
       "      <td>-33.219281</td>\n",
       "    </tr>\n",
       "    <tr>\n",
       "      <th>...</th>\n",
       "      <td>...</td>\n",
       "      <td>...</td>\n",
       "      <td>...</td>\n",
       "      <td>...</td>\n",
       "    </tr>\n",
       "    <tr>\n",
       "      <th>ATCG01270</th>\n",
       "      <td>1.000000e-10</td>\n",
       "      <td>1.000000e-10</td>\n",
       "      <td>1.000000e-10</td>\n",
       "      <td>-33.219281</td>\n",
       "    </tr>\n",
       "    <tr>\n",
       "      <th>ATCG01280</th>\n",
       "      <td>4.783549e-01</td>\n",
       "      <td>1.000000e-10</td>\n",
       "      <td>4.783549e-01</td>\n",
       "      <td>-1.063847</td>\n",
       "    </tr>\n",
       "    <tr>\n",
       "      <th>ATCG01290</th>\n",
       "      <td>1.000000e-10</td>\n",
       "      <td>1.000000e-10</td>\n",
       "      <td>1.000000e-10</td>\n",
       "      <td>-33.219281</td>\n",
       "    </tr>\n",
       "    <tr>\n",
       "      <th>ATCG01300</th>\n",
       "      <td>1.913420e+00</td>\n",
       "      <td>1.000000e-10</td>\n",
       "      <td>1.913420e+00</td>\n",
       "      <td>0.936153</td>\n",
       "    </tr>\n",
       "    <tr>\n",
       "      <th>ATCG01310</th>\n",
       "      <td>1.052381e+01</td>\n",
       "      <td>1.000000e-10</td>\n",
       "      <td>1.052381e+01</td>\n",
       "      <td>3.395585</td>\n",
       "    </tr>\n",
       "  </tbody>\n",
       "</table>\n",
       "<p>33602 rows × 4 columns</p>\n",
       "</div>"
      ],
      "text/plain": [
       "                    net             +             -       log2\n",
       "AT1G01010  1.004545e+01  1.000000e-10  1.004545e+01   3.328471\n",
       "AT1G01020  1.171970e+01  1.000000e-10  1.171970e+01   3.550863\n",
       "AT1G01030  6.696969e+00  1.000000e-10  6.696969e+00   2.743508\n",
       "AT1G01040  5.381493e+01  2.152597e+00  5.381493e+01   5.749935\n",
       "AT1G01046  1.000000e-10  1.000000e-10  1.000000e-10 -33.219281\n",
       "...                 ...           ...           ...        ...\n",
       "ATCG01270  1.000000e-10  1.000000e-10  1.000000e-10 -33.219281\n",
       "ATCG01280  4.783549e-01  1.000000e-10  4.783549e-01  -1.063847\n",
       "ATCG01290  1.000000e-10  1.000000e-10  1.000000e-10 -33.219281\n",
       "ATCG01300  1.913420e+00  1.000000e-10  1.913420e+00   0.936153\n",
       "ATCG01310  1.052381e+01  1.000000e-10  1.052381e+01   3.395585\n",
       "\n",
       "[33602 rows x 4 columns]"
      ]
     },
     "execution_count": 86,
     "metadata": {},
     "output_type": "execute_result"
    }
   ],
   "source": [
    "WT.df"
   ]
  },
  {
   "cell_type": "code",
   "execution_count": 123,
   "metadata": {},
   "outputs": [],
   "source": [
    "def MA_plot(control:read_count, treat:read_count) -> pd.DataFrame:\n",
    "    M = treat.df[\"log2\"] - control.df[\"log2\"]\n",
    "    A = ( treat.df[\"log2\"] + control.df[\"log2\"] ) / 2\n",
    "    plt.scatter(A, M, s=3)\n",
    "    plt.xlim(-5)\n",
    "    plt.ylim(-15,15)\n",
    "    plt.axhline(0, c=\"gray\")\n",
    "    plt.title(f\"{control.name} vs {treat.name}\")\n",
    "    return M[M > 1]"
   ]
  },
  {
   "cell_type": "code",
   "execution_count": 124,
   "metadata": {},
   "outputs": [
    {
     "data": {
      "image/png": "[encoded data removed]",
      "text/plain": [
       "<Figure size 432x288 with 1 Axes>"
      ]
     },
     "metadata": {
      "needs_background": "light"
     },
     "output_type": "display_data"
    }
   ],
   "source": [
    "up = MA_plot(AGO1, ago1)"
   ]
  },
  {
   "cell_type": "code",
   "execution_count": 125,
   "metadata": {},
   "outputs": [],
   "source": [
    "AGO1_target = deltaN.df.loc[up.index, \"log2\"]\n",
    "AGO1_target_deltaN_down = AGO1_target[AGO1_target<0]\n",
    "AGO1_target_deltaN_up = AGO1_target[AGO1_target>0]"
   ]
  },
  {
   "cell_type": "code",
   "execution_count": 126,
   "metadata": {},
   "outputs": [],
   "source": [
    "AGO1_target_deltaN_down.to_csv(\"/Users/siomi19/Desktop/AtAgo1 RNA-seq/AGO1_target_deltaN_down.tsv\", sep=\"\\t\", index=True, header=True)\n",
    "AGO1_target_deltaN_down.sort_values().to_csv(\"/Users/siomi19/Desktop/AtAgo1 RNA-seq/AGO1_target_deltaN_down_sorted.tsv\", sep=\"\\t\", index=True, header=True)\n",
    "AGO1_target_deltaN_up.to_csv(\"/Users/siomi19/Desktop/AtAgo1 RNA-seq/AGO1_target_deltaN_up.tsv\", sep=\"\\t\", index=True, header=True)\n",
    "AGO1_target_deltaN_up.sort_values(ascending=False).to_csv(\"/Users/siomi19/Desktop/AtAgo1 RNA-seq/AGO1_target_deltaN_up_sorted.tsv\", sep=\"\\t\", index=True, header=True)"
   ]
  },
  {
   "cell_type": "code",
   "execution_count": 108,
   "metadata": {},
   "outputs": [
    {
     "data": {
      "text/plain": [
       "(array([680.,   0.,   0.,   0.,   0.,   0.,   0.,   0.,   0.,   0.,   0.,\n",
       "          0.,   0., 295., 835., 996., 865., 493., 140.,  30.]),\n",
       " array([-33.21928095, -30.93758535, -28.65588976, -26.37419416,\n",
       "        -24.09249856, -21.81080297, -19.52910737, -17.24741178,\n",
       "        -14.96571618, -12.68402058, -10.40232499,  -8.12062939,\n",
       "         -5.8389338 ,  -3.5572382 ,  -1.2755426 ,   1.00615299,\n",
       "          3.28784859,   5.56954418,   7.85123978,  10.13293538,\n",
       "         12.41463097]),\n",
       " <BarContainer object of 20 artists>)"
      ]
     },
     "execution_count": 108,
     "metadata": {},
     "output_type": "execute_result"
    },
    {
     "data": {
      "image/png": "[encoded data removed]",
      "text/plain": [
       "<Figure size 432x288 with 1 Axes>"
      ]
     },
     "metadata": {
      "needs_background": "light"
     },
     "output_type": "display_data"
    }
   ],
   "source": [
    "plt.hist(deltaN.df.loc[down.index, \"log2\"], bins=20)"
   ]
  },
  {
   "cell_type": "code",
   "execution_count": 129,
   "metadata": {},
   "outputs": [
    {
     "data": {
      "image/png": "[encoded data removed]",
      "text/plain": [
       "<Figure size 432x288 with 1 Axes>"
      ]
     },
     "metadata": {
      "needs_background": "light"
     },
     "output_type": "display_data"
    }
   ],
   "source": [
    "a = MA_plot(AGO1, deltaN)\n",
    "a.sort_values(ascending=False).to_csv(\"/Users/siomi19/Desktop/AtAgo1 RNA-seq/AGO1_vs_deltaN_up.tsv\", sep=\"\\t\", index=True, header=True)"
   ]
  },
  {
   "cell_type": "code",
   "execution_count": 130,
   "metadata": {},
   "outputs": [
    {
     "data": {
      "text/plain": [
       "AT1G01370     1.030890\n",
       "AT1G02030    32.263838\n",
       "AT1G02440    31.263838\n",
       "AT1G02530    32.263838\n",
       "AT1G02620     1.349066\n",
       "               ...    \n",
       "ATCG01060     1.808497\n",
       "ATCG01070     1.393460\n",
       "ATCG01080     1.634468\n",
       "ATCG01090     1.162134\n",
       "ATCG01100     1.112651\n",
       "Name: log2, Length: 1613, dtype: float64"
      ]
     },
     "execution_count": 130,
     "metadata": {},
     "output_type": "execute_result"
    }
   ],
   "source": [
    "a"
   ]
  },
  {
   "cell_type": "code",
   "execution_count": 47,
   "metadata": {},
   "outputs": [],
   "source": [
    "log2_AGO1_ago1 = np.log(dfs[\"ago1\"][\"net\"]/dfs[\"AGO1\"][\"net\"])/np.log(2)"
   ]
  },
  {
   "cell_type": "code",
   "execution_count": 44,
   "metadata": {},
   "outputs": [
    {
     "data": {
      "text/plain": [
       "AT1G01010    1.435865\n",
       "AT1G01020    0.127335\n",
       "AT1G01030   -0.427631\n",
       "AT1G01040    0.409735\n",
       "AT1G01046    0.000000\n",
       "               ...   \n",
       "ATCG01270    0.000000\n",
       "ATCG01280   -0.510074\n",
       "ATCG01290    0.000000\n",
       "ATCG01300    0.004479\n",
       "ATCG01310    0.344054\n",
       "Name: net, Length: 33602, dtype: float64"
      ]
     },
     "execution_count": 44,
     "metadata": {},
     "output_type": "execute_result"
    }
   ],
   "source": [
    "log2_AGO1_ago1"
   ]
  },
  {
   "cell_type": "code",
   "execution_count": 35,
   "metadata": {},
   "outputs": [
    {
     "data": {
      "text/html": [
       "<div>\n",
       "<style scoped>\n",
       "    .dataframe tbody tr th:only-of-type {\n",
       "        vertical-align: middle;\n",
       "    }\n",
       "\n",
       "    .dataframe tbody tr th {\n",
       "        vertical-align: top;\n",
       "    }\n",
       "\n",
       "    .dataframe thead th {\n",
       "        text-align: right;\n",
       "    }\n",
       "</style>\n",
       "<table border=\"1\" class=\"dataframe\">\n",
       "  <thead>\n",
       "    <tr style=\"text-align: right;\">\n",
       "      <th></th>\n",
       "      <th>Log2FC</th>\n",
       "    </tr>\n",
       "  </thead>\n",
       "  <tbody>\n",
       "    <tr>\n",
       "      <th>AT1G01010</th>\n",
       "      <td>NaN</td>\n",
       "    </tr>\n",
       "    <tr>\n",
       "      <th>AT1G01020</th>\n",
       "      <td>NaN</td>\n",
       "    </tr>\n",
       "    <tr>\n",
       "      <th>AT1G01030</th>\n",
       "      <td>NaN</td>\n",
       "    </tr>\n",
       "    <tr>\n",
       "      <th>AT1G01040</th>\n",
       "      <td>NaN</td>\n",
       "    </tr>\n",
       "    <tr>\n",
       "      <th>AT1G01046</th>\n",
       "      <td>NaN</td>\n",
       "    </tr>\n",
       "    <tr>\n",
       "      <th>...</th>\n",
       "      <td>...</td>\n",
       "    </tr>\n",
       "    <tr>\n",
       "      <th>ATCG01270</th>\n",
       "      <td>NaN</td>\n",
       "    </tr>\n",
       "    <tr>\n",
       "      <th>ATCG01280</th>\n",
       "      <td>NaN</td>\n",
       "    </tr>\n",
       "    <tr>\n",
       "      <th>ATCG01290</th>\n",
       "      <td>NaN</td>\n",
       "    </tr>\n",
       "    <tr>\n",
       "      <th>ATCG01300</th>\n",
       "      <td>NaN</td>\n",
       "    </tr>\n",
       "    <tr>\n",
       "      <th>ATCG01310</th>\n",
       "      <td>NaN</td>\n",
       "    </tr>\n",
       "  </tbody>\n",
       "</table>\n",
       "<p>33602 rows × 1 columns</p>\n",
       "</div>"
      ],
      "text/plain": [
       "          Log2FC\n",
       "AT1G01010    NaN\n",
       "AT1G01020    NaN\n",
       "AT1G01030    NaN\n",
       "AT1G01040    NaN\n",
       "AT1G01046    NaN\n",
       "...          ...\n",
       "ATCG01270    NaN\n",
       "ATCG01280    NaN\n",
       "ATCG01290    NaN\n",
       "ATCG01300    NaN\n",
       "ATCG01310    NaN\n",
       "\n",
       "[33602 rows x 1 columns]"
      ]
     },
     "execution_count": 35,
     "metadata": {},
     "output_type": "execute_result"
    }
   ],
   "source": [
    "df_log2_AGO1_ago1"
   ]
  },
  {
   "cell_type": "code",
   "execution_count": 19,
   "metadata": {},
   "outputs": [
    {
     "data": {
      "text/html": [
       "<div>\n",
       "<style scoped>\n",
       "    .dataframe tbody tr th:only-of-type {\n",
       "        vertical-align: middle;\n",
       "    }\n",
       "\n",
       "    .dataframe tbody tr th {\n",
       "        vertical-align: top;\n",
       "    }\n",
       "\n",
       "    .dataframe thead th {\n",
       "        text-align: right;\n",
       "    }\n",
       "</style>\n",
       "<table border=\"1\" class=\"dataframe\">\n",
       "  <thead>\n",
       "    <tr style=\"text-align: right;\">\n",
       "      <th></th>\n",
       "      <th>net</th>\n",
       "      <th>+</th>\n",
       "      <th>-</th>\n",
       "    </tr>\n",
       "  </thead>\n",
       "  <tbody>\n",
       "    <tr>\n",
       "      <th>AT1G01010</th>\n",
       "      <td>42</td>\n",
       "      <td>0</td>\n",
       "      <td>42</td>\n",
       "    </tr>\n",
       "    <tr>\n",
       "      <th>AT1G01020</th>\n",
       "      <td>49</td>\n",
       "      <td>0</td>\n",
       "      <td>49</td>\n",
       "    </tr>\n",
       "    <tr>\n",
       "      <th>AT1G01030</th>\n",
       "      <td>28</td>\n",
       "      <td>0</td>\n",
       "      <td>28</td>\n",
       "    </tr>\n",
       "    <tr>\n",
       "      <th>AT1G01040</th>\n",
       "      <td>225</td>\n",
       "      <td>9</td>\n",
       "      <td>225</td>\n",
       "    </tr>\n",
       "    <tr>\n",
       "      <th>AT1G01046</th>\n",
       "      <td>0</td>\n",
       "      <td>0</td>\n",
       "      <td>0</td>\n",
       "    </tr>\n",
       "    <tr>\n",
       "      <th>...</th>\n",
       "      <td>...</td>\n",
       "      <td>...</td>\n",
       "      <td>...</td>\n",
       "    </tr>\n",
       "    <tr>\n",
       "      <th>ATCG01270</th>\n",
       "      <td>0</td>\n",
       "      <td>0</td>\n",
       "      <td>0</td>\n",
       "    </tr>\n",
       "    <tr>\n",
       "      <th>ATCG01280</th>\n",
       "      <td>2</td>\n",
       "      <td>0</td>\n",
       "      <td>2</td>\n",
       "    </tr>\n",
       "    <tr>\n",
       "      <th>ATCG01290</th>\n",
       "      <td>0</td>\n",
       "      <td>0</td>\n",
       "      <td>0</td>\n",
       "    </tr>\n",
       "    <tr>\n",
       "      <th>ATCG01300</th>\n",
       "      <td>8</td>\n",
       "      <td>0</td>\n",
       "      <td>8</td>\n",
       "    </tr>\n",
       "    <tr>\n",
       "      <th>ATCG01310</th>\n",
       "      <td>44</td>\n",
       "      <td>0</td>\n",
       "      <td>44</td>\n",
       "    </tr>\n",
       "  </tbody>\n",
       "</table>\n",
       "<p>33602 rows × 3 columns</p>\n",
       "</div>"
      ],
      "text/plain": [
       "           net  +    -\n",
       "AT1G01010   42  0   42\n",
       "AT1G01020   49  0   49\n",
       "AT1G01030   28  0   28\n",
       "AT1G01040  225  9  225\n",
       "AT1G01046    0  0    0\n",
       "...        ... ..  ...\n",
       "ATCG01270    0  0    0\n",
       "ATCG01280    2  0    2\n",
       "ATCG01290    0  0    0\n",
       "ATCG01300    8  0    8\n",
       "ATCG01310   44  0   44\n",
       "\n",
       "[33602 rows x 3 columns]"
      ]
     },
     "execution_count": 19,
     "metadata": {},
     "output_type": "execute_result"
    }
   ],
   "source": [
    "dfs[0][\"df\"]"
   ]
  },
  {
   "cell_type": "code",
   "execution_count": 11,
   "metadata": {},
   "outputs": [
    {
     "data": {
      "text/html": [
       "<div>\n",
       "<style scoped>\n",
       "    .dataframe tbody tr th:only-of-type {\n",
       "        vertical-align: middle;\n",
       "    }\n",
       "\n",
       "    .dataframe tbody tr th {\n",
       "        vertical-align: top;\n",
       "    }\n",
       "\n",
       "    .dataframe thead th {\n",
       "        text-align: right;\n",
       "    }\n",
       "</style>\n",
       "<table border=\"1\" class=\"dataframe\">\n",
       "  <thead>\n",
       "    <tr style=\"text-align: right;\">\n",
       "      <th></th>\n",
       "      <th>net</th>\n",
       "      <th>+</th>\n",
       "      <th>-</th>\n",
       "    </tr>\n",
       "  </thead>\n",
       "  <tbody>\n",
       "    <tr>\n",
       "      <th>AT1G01010</th>\n",
       "      <td>44</td>\n",
       "      <td>0</td>\n",
       "      <td>44</td>\n",
       "    </tr>\n",
       "    <tr>\n",
       "      <th>AT1G01020</th>\n",
       "      <td>38</td>\n",
       "      <td>2</td>\n",
       "      <td>36</td>\n",
       "    </tr>\n",
       "    <tr>\n",
       "      <th>AT1G01030</th>\n",
       "      <td>34</td>\n",
       "      <td>0</td>\n",
       "      <td>34</td>\n",
       "    </tr>\n",
       "    <tr>\n",
       "      <th>AT1G01040</th>\n",
       "      <td>188</td>\n",
       "      <td>7</td>\n",
       "      <td>188</td>\n",
       "    </tr>\n",
       "    <tr>\n",
       "      <th>AT1G01046</th>\n",
       "      <td>0</td>\n",
       "      <td>0</td>\n",
       "      <td>0</td>\n",
       "    </tr>\n",
       "    <tr>\n",
       "      <th>...</th>\n",
       "      <td>...</td>\n",
       "      <td>...</td>\n",
       "      <td>...</td>\n",
       "    </tr>\n",
       "    <tr>\n",
       "      <th>ATCG01270</th>\n",
       "      <td>0</td>\n",
       "      <td>0</td>\n",
       "      <td>0</td>\n",
       "    </tr>\n",
       "    <tr>\n",
       "      <th>ATCG01280</th>\n",
       "      <td>2</td>\n",
       "      <td>1</td>\n",
       "      <td>1</td>\n",
       "    </tr>\n",
       "    <tr>\n",
       "      <th>ATCG01290</th>\n",
       "      <td>0</td>\n",
       "      <td>0</td>\n",
       "      <td>0</td>\n",
       "    </tr>\n",
       "    <tr>\n",
       "      <th>ATCG01300</th>\n",
       "      <td>6</td>\n",
       "      <td>0</td>\n",
       "      <td>6</td>\n",
       "    </tr>\n",
       "    <tr>\n",
       "      <th>ATCG01310</th>\n",
       "      <td>43</td>\n",
       "      <td>0</td>\n",
       "      <td>43</td>\n",
       "    </tr>\n",
       "  </tbody>\n",
       "</table>\n",
       "<p>33602 rows × 3 columns</p>\n",
       "</div>"
      ],
      "text/plain": [
       "           net  +    -\n",
       "AT1G01010   44  0   44\n",
       "AT1G01020   38  2   36\n",
       "AT1G01030   34  0   34\n",
       "AT1G01040  188  7  188\n",
       "AT1G01046    0  0    0\n",
       "...        ... ..  ...\n",
       "ATCG01270    0  0    0\n",
       "ATCG01280    2  1    1\n",
       "ATCG01290    0  0    0\n",
       "ATCG01300    6  0    6\n",
       "ATCG01310   43  0   43\n",
       "\n",
       "[33602 rows x 3 columns]"
      ]
     },
     "execution_count": 11,
     "metadata": {},
     "output_type": "execute_result"
    }
   ],
   "source": [
    "df"
   ]
  },
  {
   "cell_type": "code",
   "execution_count": null,
   "metadata": {},
   "outputs": [],
   "source": []
  }
 ],
 "metadata": {
  "kernelspec": {
   "display_name": "Python 3.9.7 ('base')",
   "language": "python",
   "name": "python3"
  },
  "language_info": {
   "codemirror_mode": {
    "name": "ipython",
    "version": 3
   },
   "file_extension": ".py",
   "mimetype": "text/x-python",
   "name": "python",
   "nbconvert_exporter": "python",
   "pygments_lexer": "ipython3",
   "version": "3.9.7"
  },
  "orig_nbformat": 4,
  "vscode": {
   "interpreter": {
    "hash": "3c8f3b66fce7f3ff84ca19ca87e93a04e90d17618139d6c165f93d527107e1fd"
   }
  }
 },
 "nbformat": 4,
 "nbformat_minor": 2
}
