{
 "cells": [
  {
   "cell_type": "code",
   "execution_count": 1,
   "metadata": {},
   "outputs": [],
   "source": [
    "import pandas as pd\n",
    "import numpy as np\n",
    "import matplotlib.pyplot as plt\n",
    "import seaborn as sns\n",
    "from scipy import stats"
   ]
  },
  {
   "cell_type": "code",
   "execution_count": 9,
   "metadata": {},
   "outputs": [
    {
     "name": "stderr",
     "output_type": "stream",
     "text": [
      "/Users/siomi19/opt/anaconda3/lib/python3.9/site-packages/pandas/util/_decorators.py:311: ParserWarning: Falling back to the 'python' engine because the 'c' engine does not support skipfooter; you can avoid this warning by specifying engine='python'.\n",
      "  return func(*args, **kwargs)\n"
     ]
    }
   ],
   "source": [
    "df_mobile_value = pd.read_csv('/Users/siomi19/Desktop/AtAgo1 RNA-seq/Thieme et al., 2015/41477_2015_BFnplants201525_MOESM2_ESM_1.txt', header=1, index_col=0, sep=\"\\t\", skipfooter=1)\n",
    "mobile_value_index = np.setdiff1d(df_mobile_value.index, ['AT1G30835', 'AT1G46554', 'AT1G67105', 'AT2G13970', 'AT2G14878', 'AT2G22821', 'AT2G26355', 'AT3G06125', 'AT3G15536', 'AT3G22121', 'AT3G44798', 'AT3G54366', 'AT5G28626', 'AT5G59732'])"
   ]
  },
  {
   "cell_type": "code",
   "execution_count": 75,
   "metadata": {},
   "outputs": [],
   "source": [
    "df_up_up = pd.read_csv('/Users/siomi19/Desktop/AtAgo1 RNA-seq/DESeq2/DEG/ago1_up_deltaN_up.txt', sep=\"\\t\", header=0, index_col=0)\n",
    "df_up_down = pd.read_csv('/Users/siomi19/Desktop/AtAgo1 RNA-seq/DESeq2/DEG/ago1_up_deltaN_down.txt', sep=\"\\t\", header=0, index_col=0)\n",
    "df_down_up = pd.read_csv('/Users/siomi19/Desktop/AtAgo1 RNA-seq/DESeq2/DEG/ago1_down_deltaN_up.txt', sep=\"\\t\", header=0, index_col=0)\n",
    "df_down_down = pd.read_csv('/Users/siomi19/Desktop/AtAgo1 RNA-seq/DESeq2/DEG/ago1_down_deltaN_down.txt', sep=\"\\t\", header=0, index_col=0)\n",
    "\n",
    "dfs = [df_up_up, df_up_down, df_down_up, df_down_down]\n",
    "for d in dfs:\n",
    "    d.index = [i.split(\":\")[1] for i in d.index]"
   ]
  },
  {
   "cell_type": "code",
   "execution_count": 49,
   "metadata": {},
   "outputs": [
    {
     "data": {
      "text/html": [
       "<div>\n",
       "<style scoped>\n",
       "    .dataframe tbody tr th:only-of-type {\n",
       "        vertical-align: middle;\n",
       "    }\n",
       "\n",
       "    .dataframe tbody tr th {\n",
       "        vertical-align: top;\n",
       "    }\n",
       "\n",
       "    .dataframe thead th {\n",
       "        text-align: right;\n",
       "    }\n",
       "</style>\n",
       "<table border=\"1\" class=\"dataframe\">\n",
       "  <thead>\n",
       "    <tr style=\"text-align: right;\">\n",
       "      <th></th>\n",
       "      <th>WT_AGO1.1</th>\n",
       "      <th>WT_AGO1.2</th>\n",
       "      <th>deltaN.1</th>\n",
       "      <th>deltaN.2</th>\n",
       "      <th>baseMean</th>\n",
       "      <th>log2FC</th>\n",
       "      <th>lfcSE</th>\n",
       "      <th>stat</th>\n",
       "      <th>p.value</th>\n",
       "      <th>q.value</th>\n",
       "      <th>q.value_BH</th>\n",
       "      <th>ranking</th>\n",
       "    </tr>\n",
       "  </thead>\n",
       "  <tbody>\n",
       "    <tr>\n",
       "      <th>AT1G01010</th>\n",
       "      <td>117</td>\n",
       "      <td>165</td>\n",
       "      <td>151</td>\n",
       "      <td>200</td>\n",
       "      <td>156.046983</td>\n",
       "      <td>0.292469</td>\n",
       "      <td>0.294014</td>\n",
       "      <td>0.994747</td>\n",
       "      <td>0.319859</td>\n",
       "      <td>0.999600</td>\n",
       "      <td>1.000000</td>\n",
       "      <td>6502.0</td>\n",
       "    </tr>\n",
       "    <tr>\n",
       "      <th>AT1G01020</th>\n",
       "      <td>147</td>\n",
       "      <td>164</td>\n",
       "      <td>141</td>\n",
       "      <td>188</td>\n",
       "      <td>158.614726</td>\n",
       "      <td>0.045916</td>\n",
       "      <td>0.286582</td>\n",
       "      <td>0.160220</td>\n",
       "      <td>0.872708</td>\n",
       "      <td>0.999600</td>\n",
       "      <td>1.000000</td>\n",
       "      <td>20406.0</td>\n",
       "    </tr>\n",
       "    <tr>\n",
       "      <th>AT1G01030</th>\n",
       "      <td>59</td>\n",
       "      <td>100</td>\n",
       "      <td>119</td>\n",
       "      <td>76</td>\n",
       "      <td>88.261956</td>\n",
       "      <td>0.314477</td>\n",
       "      <td>0.431269</td>\n",
       "      <td>0.729191</td>\n",
       "      <td>0.465885</td>\n",
       "      <td>0.999600</td>\n",
       "      <td>1.000000</td>\n",
       "      <td>9720.0</td>\n",
       "    </tr>\n",
       "    <tr>\n",
       "      <th>AT1G01040</th>\n",
       "      <td>710</td>\n",
       "      <td>771</td>\n",
       "      <td>731</td>\n",
       "      <td>969</td>\n",
       "      <td>788.464978</td>\n",
       "      <td>0.161664</td>\n",
       "      <td>0.176795</td>\n",
       "      <td>0.914415</td>\n",
       "      <td>0.360499</td>\n",
       "      <td>0.999600</td>\n",
       "      <td>1.000000</td>\n",
       "      <td>7388.0</td>\n",
       "    </tr>\n",
       "    <tr>\n",
       "      <th>AT1G01050</th>\n",
       "      <td>673</td>\n",
       "      <td>856</td>\n",
       "      <td>688</td>\n",
       "      <td>899</td>\n",
       "      <td>770.528692</td>\n",
       "      <td>0.025883</td>\n",
       "      <td>0.175223</td>\n",
       "      <td>0.147715</td>\n",
       "      <td>0.882568</td>\n",
       "      <td>0.999600</td>\n",
       "      <td>1.000000</td>\n",
       "      <td>20630.0</td>\n",
       "    </tr>\n",
       "    <tr>\n",
       "      <th>...</th>\n",
       "      <td>...</td>\n",
       "      <td>...</td>\n",
       "      <td>...</td>\n",
       "      <td>...</td>\n",
       "      <td>...</td>\n",
       "      <td>...</td>\n",
       "      <td>...</td>\n",
       "      <td>...</td>\n",
       "      <td>...</td>\n",
       "      <td>...</td>\n",
       "      <td>...</td>\n",
       "      <td>...</td>\n",
       "    </tr>\n",
       "    <tr>\n",
       "      <th>ATCG01250</th>\n",
       "      <td>251</td>\n",
       "      <td>257</td>\n",
       "      <td>646</td>\n",
       "      <td>293</td>\n",
       "      <td>366.749853</td>\n",
       "      <td>0.898662</td>\n",
       "      <td>0.654568</td>\n",
       "      <td>1.372909</td>\n",
       "      <td>0.169781</td>\n",
       "      <td>0.999600</td>\n",
       "      <td>1.000000</td>\n",
       "      <td>3589.0</td>\n",
       "    </tr>\n",
       "    <tr>\n",
       "      <th>ATCG01270</th>\n",
       "      <td>1</td>\n",
       "      <td>9</td>\n",
       "      <td>6</td>\n",
       "      <td>7</td>\n",
       "      <td>5.550351</td>\n",
       "      <td>0.423755</td>\n",
       "      <td>1.455906</td>\n",
       "      <td>0.291060</td>\n",
       "      <td>0.771006</td>\n",
       "      <td>1.000000</td>\n",
       "      <td>1.000000</td>\n",
       "      <td>17680.0</td>\n",
       "    </tr>\n",
       "    <tr>\n",
       "      <th>ATCG01280</th>\n",
       "      <td>87</td>\n",
       "      <td>153</td>\n",
       "      <td>286</td>\n",
       "      <td>147</td>\n",
       "      <td>168.792625</td>\n",
       "      <td>0.885631</td>\n",
       "      <td>0.402920</td>\n",
       "      <td>2.198034</td>\n",
       "      <td>0.027947</td>\n",
       "      <td>0.517942</td>\n",
       "      <td>0.688829</td>\n",
       "      <td>1122.0</td>\n",
       "    </tr>\n",
       "    <tr>\n",
       "      <th>ATCG01300</th>\n",
       "      <td>727</td>\n",
       "      <td>704</td>\n",
       "      <td>685</td>\n",
       "      <td>749</td>\n",
       "      <td>715.018615</td>\n",
       "      <td>-0.031275</td>\n",
       "      <td>0.187194</td>\n",
       "      <td>-0.167070</td>\n",
       "      <td>0.867315</td>\n",
       "      <td>0.999600</td>\n",
       "      <td>1.000000</td>\n",
       "      <td>20264.0</td>\n",
       "    </tr>\n",
       "    <tr>\n",
       "      <th>ATCG01310</th>\n",
       "      <td>7560</td>\n",
       "      <td>6166</td>\n",
       "      <td>7711</td>\n",
       "      <td>6889</td>\n",
       "      <td>7118.606363</td>\n",
       "      <td>0.054530</td>\n",
       "      <td>0.201922</td>\n",
       "      <td>0.270057</td>\n",
       "      <td>0.787116</td>\n",
       "      <td>0.999600</td>\n",
       "      <td>1.000000</td>\n",
       "      <td>18277.0</td>\n",
       "    </tr>\n",
       "  </tbody>\n",
       "</table>\n",
       "<p>27655 rows × 12 columns</p>\n",
       "</div>"
      ],
      "text/plain": [
       "           WT_AGO1.1  WT_AGO1.2  deltaN.1  deltaN.2     baseMean    log2FC  \\\n",
       "AT1G01010        117        165       151       200   156.046983  0.292469   \n",
       "AT1G01020        147        164       141       188   158.614726  0.045916   \n",
       "AT1G01030         59        100       119        76    88.261956  0.314477   \n",
       "AT1G01040        710        771       731       969   788.464978  0.161664   \n",
       "AT1G01050        673        856       688       899   770.528692  0.025883   \n",
       "...              ...        ...       ...       ...          ...       ...   \n",
       "ATCG01250        251        257       646       293   366.749853  0.898662   \n",
       "ATCG01270          1          9         6         7     5.550351  0.423755   \n",
       "ATCG01280         87        153       286       147   168.792625  0.885631   \n",
       "ATCG01300        727        704       685       749   715.018615 -0.031275   \n",
       "ATCG01310       7560       6166      7711      6889  7118.606363  0.054530   \n",
       "\n",
       "              lfcSE      stat   p.value   q.value  q.value_BH  ranking  \n",
       "AT1G01010  0.294014  0.994747  0.319859  0.999600    1.000000   6502.0  \n",
       "AT1G01020  0.286582  0.160220  0.872708  0.999600    1.000000  20406.0  \n",
       "AT1G01030  0.431269  0.729191  0.465885  0.999600    1.000000   9720.0  \n",
       "AT1G01040  0.176795  0.914415  0.360499  0.999600    1.000000   7388.0  \n",
       "AT1G01050  0.175223  0.147715  0.882568  0.999600    1.000000  20630.0  \n",
       "...             ...       ...       ...       ...         ...      ...  \n",
       "ATCG01250  0.654568  1.372909  0.169781  0.999600    1.000000   3589.0  \n",
       "ATCG01270  1.455906  0.291060  0.771006  1.000000    1.000000  17680.0  \n",
       "ATCG01280  0.402920  2.198034  0.027947  0.517942    0.688829   1122.0  \n",
       "ATCG01300  0.187194 -0.167070  0.867315  0.999600    1.000000  20264.0  \n",
       "ATCG01310  0.201922  0.270057  0.787116  0.999600    1.000000  18277.0  \n",
       "\n",
       "[27655 rows x 12 columns]"
      ]
     },
     "execution_count": 49,
     "metadata": {},
     "output_type": "execute_result"
    }
   ],
   "source": [
    "df_deltaN_lfc"
   ]
  },
  {
   "cell_type": "code",
   "execution_count": 4,
   "metadata": {},
   "outputs": [],
   "source": [
    "df_fC = pd.read_csv(f'/Users/siomi19/Desktop/AtAgo1 RNA-seq/featureCounts/results/AtAgo1_RNA-seq_featureCounts_gene.txt',\n",
    "                        skiprows=1,\n",
    "                        sep=\"\\t\",\n",
    "                        header=0,\n",
    "                        index_col=0,\n",
    "                        usecols=[0,6,7,8,9,10,11,12,13]\n",
    "                        )"
   ]
  },
  {
   "cell_type": "code",
   "execution_count": 5,
   "metadata": {},
   "outputs": [],
   "source": [
    "df_deltaN_lfc = pd.read_csv('/Users/siomi19/Desktop/AtAgo1 RNA-seq/DESeq2/DEG/AtAgo1_RNA-seq_featureCounts_gene_WT_AGO1_deltaN_DESeq2.txt', header=0, index_col=0, sep=\"\\t\")\n",
    "df_deltaN_lfc.index = [i.split(\":\")[1] for i in df_deltaN_lfc.index]"
   ]
  },
  {
   "cell_type": "code",
   "execution_count": 6,
   "metadata": {},
   "outputs": [],
   "source": [
    "not_exist = ['AT2G01010', 'AT2G07709', 'AT2G07711', 'AT2G07717', 'AT2G18440', 'AT3G33072', 'AT3G41768', 'AT3G42658', 'AT4G03060', 'AT5G49080', 'AT1G30835', 'AT1G46554', 'AT1G67105', 'AT2G13970', 'AT2G14878', 'AT2G22821', 'AT2G26355', 'AT3G06125', 'AT3G15536', 'AT3G22121', 'AT3G44798', 'AT3G54366', 'AT5G28626', 'AT5G59732']\n",
    "\n",
    "for i in not_exist:\n",
    "    mobile_genes.remove(i)"
   ]
  },
  {
   "cell_type": "code",
   "execution_count": 8,
   "metadata": {},
   "outputs": [],
   "source": [
    "df_target_cyt = pd.read_csv('/Users/siomi19/Desktop/AtAgo1 RNA-seq/DESeq2/DEG/upregulated/gene/DEG_WT_AGO1_ago1_0.05_0_BH.csv', header=0, index_col=0, sep=\"\\t\")\n",
    "cyt_genes = [i.split(\":\")[1].upper() for i in df_target_cyt.index]"
   ]
  },
  {
   "cell_type": "code",
   "execution_count": 153,
   "metadata": {},
   "outputs": [
    {
     "data": {
      "text/plain": [
       "<AxesSubplot:xlabel='variable', ylabel='value'>"
      ]
     },
     "execution_count": 153,
     "metadata": {},
     "output_type": "execute_result"
    },
    {
     "data": {
      "image/png": "[encoded data removed]",
      "text/plain": [
       "<Figure size 576x432 with 1 Axes>"
      ]
     },
     "metadata": {
      "needs_background": "light"
     },
     "output_type": "display_data"
    },
    {
     "data": {
      "image/png": "[encoded data removed]",
      "text/plain": [
       "<Figure size 576x432 with 1 Axes>"
      ]
     },
     "metadata": {
      "needs_background": "light"
     },
     "output_type": "display_data"
    },
    {
     "data": {
      "image/png": "[encoded data removed]",
      "text/plain": [
       "<Figure size 576x432 with 1 Axes>"
      ]
     },
     "metadata": {
      "needs_background": "light"
     },
     "output_type": "display_data"
    }
   ],
   "source": [
    "d = ['PED to COL', 'COL to PED', 'shoot to root', 'root to shoot']\n",
    "\n",
    "mobile_d_index = list(df_mobile_value[d[2]].dropna().index)\n",
    "mobile_r_index = list(df_mobile_value[d[3]].dropna().index)\n",
    "\n",
    "for ne in ['AT1G30835', 'AT1G46554', 'AT2G14878', 'AT3G54366', 'AT5G28626', 'AT5G59732', 'AT1G67105', 'AT2G13970', 'AT2G22821', 'AT2G26355', 'AT3G06125', 'AT3G15536', 'AT3G22121', 'AT3G44798']:\n",
    "    try:\n",
    "        mobile_d_index.remove(ne)\n",
    "    except ValueError:\n",
    "        pass\n",
    "for ne in ['AT1G30835', 'AT1G46554', 'AT2G14878', 'AT3G54366', 'AT5G28626', 'AT5G59732', 'AT1G67105', 'AT2G13970', 'AT2G22821', 'AT2G26355', 'AT3G06125', 'AT3G15536', 'AT3G22121', 'AT3G44798']:\n",
    "    try:\n",
    "        mobile_r_index.remove(ne)\n",
    "    except ValueError:\n",
    "        pass\n",
    "mobile_d = df_deltaN_lfc.loc[np.intersect1d(df_deltaN_up.index, mobile_d_index), \"log2FC\"]\n",
    "mobile_r = df_deltaN_lfc.loc[np.intersect1d(df_deltaN_up.index, mobile_r_index), \"log2FC\"]\n",
    "\n",
    "df_d = pd.DataFrame({f\"mobile ( {d[2]} )\":mobile_d})\n",
    "df_r = pd.DataFrame({f\"mobile ( {d[3]} )\":mobile_r})\n",
    "df_cat_loc_t_melt = pd.concat([df_d, df_r], axis=1).melt()\n",
    "plt.figure(figsize=(8,6))\n",
    "sns.violinplot(x='variable', y='value', data=df_cat_loc_t_melt)\n",
    "plt.figure(figsize=(8,6))\n",
    "sns.boxplot(x='variable', y='value', data=df_cat_loc_t_melt)\n",
    "plt.figure(figsize=(8,6))\n",
    "sns.swarmplot(x='variable', y='value', data=df_cat_loc_t_melt)"
   ]
  },
  {
   "cell_type": "code",
   "execution_count": 27,
   "metadata": {},
   "outputs": [
    {
     "data": {
      "text/plain": [
       "<AxesSubplot:xlabel='variable', ylabel='value'>"
      ]
     },
     "execution_count": 27,
     "metadata": {},
     "output_type": "execute_result"
    },
    {
     "data": {
      "image/png": "[encoded data removed]",
      "text/plain": [
       "<Figure size 576x432 with 1 Axes>"
      ]
     },
     "metadata": {
      "needs_background": "light"
     },
     "output_type": "display_data"
    }
   ],
   "source": [
    "d = ['PED to COL', 'COL to PED', 'shoot to root', 'root to shoot']\n",
    "\n",
    "mobile_d_index = list(df_mobile_value[d[0]].dropna().index)\n",
    "mobile_r_index = list(df_mobile_value[d[1]].dropna().index)\n",
    "\n",
    "for ne in ['AT1G30835', 'AT1G46554', 'AT2G14878', 'AT3G54366', 'AT5G28626', 'AT5G59732', 'AT1G67105', 'AT2G13970', 'AT2G22821', 'AT2G26355', 'AT3G06125', 'AT3G15536', 'AT3G22121', 'AT3G44798']:\n",
    "    try:\n",
    "        mobile_d_index.remove(ne)\n",
    "    except ValueError:\n",
    "        pass\n",
    "for ne in ['AT1G30835', 'AT1G46554', 'AT2G14878', 'AT3G54366', 'AT5G28626', 'AT5G59732', 'AT1G67105', 'AT2G13970', 'AT2G22821', 'AT2G26355', 'AT3G06125', 'AT3G15536', 'AT3G22121', 'AT3G44798']:\n",
    "    try:\n",
    "        mobile_r_index.remove(ne)\n",
    "    except ValueError:\n",
    "        pass\n",
    "mobile_d = df_deltaN_lfc.loc[np.intersect1d(cyt_genes, mobile_d_index), \"log2FC\"]\n",
    "mobile_r = df_deltaN_lfc.loc[np.intersect1d(cyt_genes, mobile_r_index), \"log2FC\"]\n",
    "\n",
    "df_d = pd.DataFrame({f\"mobile ( {d[0]} )\":mobile_d})\n",
    "df_r = pd.DataFrame({f\"mobile ( {d[1]} )\":mobile_r})\n",
    "df_cat_loc_t_melt = pd.concat([df_d, df_r], axis=1).melt()\n",
    "plt.figure(figsize=(8,6))\n",
    "sns.violinplot(x='variable', y='value', data=df_cat_loc_t_melt)"
   ]
  },
  {
   "cell_type": "code",
   "execution_count": 85,
   "metadata": {},
   "outputs": [],
   "source": [
    "df_deltaN_up = pd.read_csv('/Users/siomi19/Desktop/AtAgo1 RNA-seq/DESeq2/DEG/upregulated/gene/DEG_WT_AGO1_deltaN_0.05_0_BH.csv', sep=\"\\t\", header=0, index_col=0)\n",
    "df_deltaN_down = pd.read_csv('/Users/siomi19/Desktop/AtAgo1 RNA-seq/DESeq2/DEG/downregulated/gene/DEG_WT_AGO1_deltaN_0.05_0_BH.csv', sep=\"\\t\", header=0, index_col=0)\n",
    "\n",
    "dfs = [df_deltaN_up, df_deltaN_down]\n",
    "for d in dfs:\n",
    "    d.index = [i.split(\":\")[1] for i in d.index]"
   ]
  },
  {
   "cell_type": "code",
   "execution_count": 120,
   "metadata": {},
   "outputs": [],
   "source": [
    "df_mobile = pd.read_csv('/Users/siomi19/Desktop/AtAgo1 RNA-seq/Thieme et al., 2015/41477_2015_BFnplants201525_MOESM2_ESM.txt', header=0, index_col=0, sep=\"\\t\", skiprows=1)\n",
    "mobile_genes = list(df_mobile.iloc[:,0].values)"
   ]
  },
  {
   "cell_type": "code",
   "execution_count": 157,
   "metadata": {},
   "outputs": [
    {
     "data": {
      "text/plain": [
       "0.42857142857142855"
      ]
     },
     "execution_count": 157,
     "metadata": {},
     "output_type": "execute_result"
    }
   ],
   "source": [
    "len(np.intersect1d(df_deltaN_up.index, mobile_index))/len(df_deltaN_up)"
   ]
  },
  {
   "cell_type": "code",
   "execution_count": 158,
   "metadata": {},
   "outputs": [
    {
     "data": {
      "text/plain": [
       "0.3313253012048193"
      ]
     },
     "execution_count": 158,
     "metadata": {},
     "output_type": "execute_result"
    }
   ],
   "source": [
    "len(np.intersect1d(df_deltaN_down.index, mobile_index))/len(df_deltaN_down)"
   ]
  },
  {
   "cell_type": "code",
   "execution_count": 159,
   "metadata": {},
   "outputs": [
    {
     "data": {
      "text/plain": [
       "0.3601694915254237"
      ]
     },
     "execution_count": 159,
     "metadata": {},
     "output_type": "execute_result"
    }
   ],
   "source": [
    "(len(np.intersect1d(df_deltaN_up.index, mobile_index))+len(np.intersect1d(df_deltaN_down.index, mobile_index)))/(len(df_deltaN_up)+len(df_deltaN_down))"
   ]
  },
  {
   "cell_type": "code",
   "execution_count": 160,
   "metadata": {},
   "outputs": [
    {
     "data": {
      "text/plain": [
       "0.18"
      ]
     },
     "execution_count": 160,
     "metadata": {},
     "output_type": "execute_result"
    }
   ],
   "source": [
    "3600/20000"
   ]
  },
  {
   "cell_type": "code",
   "execution_count": 155,
   "metadata": {},
   "outputs": [
    {
     "data": {
      "text/plain": [
       "<Figure size 576x432 with 0 Axes>"
      ]
     },
     "execution_count": 155,
     "metadata": {},
     "output_type": "execute_result"
    },
    {
     "data": {
      "image/png": "[encoded data removed]",
      "text/plain": [
       "<Figure size 576x432 with 1 Axes>"
      ]
     },
     "metadata": {
      "needs_background": "light"
     },
     "output_type": "display_data"
    },
    {
     "data": {
      "image/png": "[encoded data removed]",
      "text/plain": [
       "<Figure size 576x432 with 1 Axes>"
      ]
     },
     "metadata": {
      "needs_background": "light"
     },
     "output_type": "display_data"
    },
    {
     "data": {
      "text/plain": [
       "<Figure size 576x432 with 0 Axes>"
      ]
     },
     "metadata": {},
     "output_type": "display_data"
    }
   ],
   "source": [
    "mobile_index = mobile_genes\n",
    "non_mobile_index = list(np.setdiff1d(df_deltaN_lfc.index, mobile_index))\n",
    "# mobile_index = list(df_mobile_value.index)\n",
    "# non_mobile_index = np.setdiff1d(df_deltaN_lfc.index, mobile_index)\n",
    "\n",
    "\n",
    "\n",
    "for ne in ['AT1G30835', 'AT1G46554', 'AT2G14878', 'AT3G54366', 'AT5G28626', 'AT5G59732', 'AT1G67105', 'AT2G13970', 'AT2G22821', 'AT2G26355', 'AT3G06125', 'AT3G15536', 'AT3G22121', 'AT3G44798', 'AT2G01010', 'AT2G07709', 'AT2G07711', 'AT2G07717', 'AT2G18440', 'AT3G33072', 'AT3G41768', 'AT3G42658', 'AT4G03060', 'AT5G49080']:\n",
    "    try:\n",
    "        mobile_index.remove(ne)\n",
    "    except ValueError:\n",
    "        pass\n",
    "\n",
    "for ne in ['AT1G30835', 'AT1G46554', 'AT2G14878', 'AT3G54366', 'AT5G28626', 'AT5G59732', 'AT1G67105', 'AT2G13970', 'AT2G22821', 'AT2G26355', 'AT3G06125', 'AT3G15536', 'AT3G22121', 'AT3G44798', 'AT2G01010', 'AT2G07709', 'AT2G07711', 'AT2G07717', 'AT2G18440', 'AT3G33072', 'AT3G41768', 'AT3G42658', 'AT4G03060', 'AT5G49080']:\n",
    "    try:\n",
    "        non_mobile_index.remove(ne)\n",
    "    except ValueError:\n",
    "        pass\n",
    "\n",
    "# slicer_down = np.concatenate([df_up_up.index, df_down_up.index])\n",
    "# slicer_up = np.concatenate([df_down_down.index, df_up_down.index])\n",
    "\n",
    "# mobile_d = df_deltaN_lfc.loc[np.intersect1d(slicer_up, mobile_index), \"log2FC\"]\n",
    "# mobile_r = df_deltaN_lfc.loc[np.intersect1d(slicer_up, non_mobile_index), \"log2FC\"]\n",
    "mobile_d = df_deltaN_lfc.loc[np.intersect1d(df_deltaN_up.index, mobile_index), \"log2FC\"]\n",
    "mobile_r = df_deltaN_lfc.loc[np.setdiff1d(df_deltaN_up.index, mobile_index), \"log2FC\"]\n",
    "# mobile_d = df_deltaN_lfc.loc[mobile_index, \"log2FC\"]\n",
    "# mobile_r = df_deltaN_lfc.loc[non_mobile_index, \"log2FC\"]\n",
    "\n",
    "df_d = pd.DataFrame({f\"mobile\" : mobile_d})\n",
    "df_r = pd.DataFrame({f\"non-mobile \":mobile_r})\n",
    "df_cat_loc_t_melt = pd.concat([df_d, df_r], axis=1).melt()\n",
    "plt.figure(figsize=(8,6))\n",
    "sns.violinplot(x='variable', y='value', data=df_cat_loc_t_melt)\n",
    "plt.figure(figsize=(8,6))\n",
    "sns.boxplot(x='variable', y='value', data=df_cat_loc_t_melt, sym=\"\")\n",
    "plt.figure(figsize=(8,6))\n",
    "# sns.swarmplot(x='variable', y='value', data=df_cat_loc_t_melt)\n",
    "# plt.ylim(0, 2)"
   ]
  },
  {
   "cell_type": "code",
   "execution_count": 74,
   "metadata": {},
   "outputs": [
    {
     "data": {
      "text/plain": [
       "(-1.0, 1.0)"
      ]
     },
     "execution_count": 74,
     "metadata": {},
     "output_type": "execute_result"
    },
    {
     "data": {
      "image/png": "[encoded data removed]",
      "text/plain": [
       "<Figure size 576x432 with 1 Axes>"
      ]
     },
     "metadata": {
      "needs_background": "light"
     },
     "output_type": "display_data"
    },
    {
     "data": {
      "image/png": "[encoded data removed]",
      "text/plain": [
       "<Figure size 576x432 with 1 Axes>"
      ]
     },
     "metadata": {
      "needs_background": "light"
     },
     "output_type": "display_data"
    }
   ],
   "source": [
    "mobile_index = list(df_mobile_value.index)\n",
    "non_mobile_index = np.setdiff1d(df_deltaN_lfc.index, mobile_index)\n",
    "\n",
    "for ne in ['AT1G30835', 'AT1G46554', 'AT2G14878', 'AT3G54366', 'AT5G28626', 'AT5G59732', 'AT1G67105', 'AT2G13970', 'AT2G22821', 'AT2G26355', 'AT3G06125', 'AT3G15536', 'AT3G22121', 'AT3G44798']:\n",
    "    try:\n",
    "        mobile_index.remove(ne)\n",
    "    except ValueError:\n",
    "        pass\n",
    "\n",
    "# for ne in ['AT1G30835', 'AT1G46554', 'AT2G14878', 'AT3G54366', 'AT5G28626', 'AT5G59732', 'AT1G67105', 'AT2G13970', 'AT2G22821', 'AT2G26355', 'AT3G06125', 'AT3G15536', 'AT3G22121', 'AT3G44798']:\n",
    "#     try:\n",
    "#         non_mobile_index.remove(ne)\n",
    "#     except ValueError:\n",
    "#         pass\n",
    "\n",
    "mobile_d = df_deltaN_lfc.loc[mobile_index, \"log2FC\"].dropna()\n",
    "mobile_r = df_deltaN_lfc.loc[non_mobile_index, \"log2FC\"].dropna()\n",
    "\n",
    "df_d = pd.DataFrame({f\"mobile\" : mobile_d})\n",
    "df_r = pd.DataFrame({f\"non-mobile \":mobile_r})\n",
    "df_cat_loc_t_melt = pd.concat([df_d, df_r], axis=1).melt()\n",
    "plt.figure(figsize=(8,6))\n",
    "sns.violinplot(x='variable', y='value', data=df_cat_loc_t_melt)\n",
    "plt.figure(figsize=(8,6))\n",
    "sns.boxplot(x='variable', y='value', data=df_cat_loc_t_melt)\n",
    "plt.ylim(-1,1)"
   ]
  },
  {
   "cell_type": "code",
   "execution_count": 36,
   "metadata": {},
   "outputs": [
    {
     "data": {
      "text/plain": [
       "<AxesSubplot:xlabel='variable', ylabel='value'>"
      ]
     },
     "execution_count": 36,
     "metadata": {},
     "output_type": "execute_result"
    },
    {
     "data": {
      "image/png": "[encoded data removed]",
      "text/plain": [
       "<Figure size 576x432 with 1 Axes>"
      ]
     },
     "metadata": {
      "needs_background": "light"
     },
     "output_type": "display_data"
    }
   ],
   "source": [
    "mobile_index = list(df_mobile_value.index)\n",
    "non_mobile_index = np.setdiff1d(df_deltaN_lfc.index, mobile_index)\n",
    "\n",
    "for ne in ['AT1G30835', 'AT1G46554', 'AT2G14878', 'AT3G54366', 'AT5G28626', 'AT5G59732', 'AT1G67105', 'AT2G13970', 'AT2G22821', 'AT2G26355', 'AT3G06125', 'AT3G15536', 'AT3G22121', 'AT3G44798']:\n",
    "    try:\n",
    "        mobile_index.remove(ne)\n",
    "    except ValueError:\n",
    "        pass\n",
    "\n",
    "# for ne in ['AT1G30835', 'AT1G46554', 'AT2G14878', 'AT3G54366', 'AT5G28626', 'AT5G59732', 'AT1G67105', 'AT2G13970', 'AT2G22821', 'AT2G26355', 'AT3G06125', 'AT3G15536', 'AT3G22121', 'AT3G44798']:\n",
    "#     try:\n",
    "#         non_mobile_index.remove(ne)\n",
    "#     except ValueError:\n",
    "#         pass\n",
    "\n",
    "mobile_d = df_deltaN_lfc.loc[np.intersect1d(cyt_genes, mobile_index), \"log2FC\"].dropna()\n",
    "mobile_r = df_deltaN_lfc.loc[np.intersect1d(cyt_genes, non_mobile_index), \"log2FC\"].dropna()\n",
    "\n",
    "df_d = pd.DataFrame({f\"mobile cytosolic target\" : mobile_d})\n",
    "df_r = pd.DataFrame({f\"non-mobile cytosolic target \":mobile_r})\n",
    "df_cat_loc_t_melt = pd.concat([df_d, df_r], axis=1).melt()\n",
    "plt.figure(figsize=(8,6))\n",
    "sns.violinplot(x='variable', y='value', data=df_cat_loc_t_melt)"
   ]
  },
  {
   "cell_type": "code",
   "execution_count": 108,
   "metadata": {},
   "outputs": [
    {
     "name": "stdout",
     "output_type": "stream",
     "text": [
      "F:        1.569\n",
      "p-value:  0.287\n"
     ]
    }
   ],
   "source": [
    "A_var = np.var(mobile_d.values, ddof=1)  # Aの不偏分散\n",
    "B_var = np.var(mobile_r.values, ddof=1)  # Bの不偏分散\n",
    "A_df = len(mobile_d.values) - 1  # Aの自由度\n",
    "B_df = len(mobile_r.values) - 1  # Bの自由度\n",
    "f = A_var / B_var  # F比の値\n",
    "one_sided_pval1 = stats.f.cdf(f, A_df, B_df)  # 片側検定のp値 1\n",
    "one_sided_pval2 = stats.f.sf(f, A_df, B_df)   # 片側検定のp値 2\n",
    "two_sided_pval = min(one_sided_pval1, one_sided_pval2) * 2  # 両側検定のp値\n",
    "\n",
    "print('F:       ', round(f, 3))\n",
    "print('p-value: ', round(two_sided_pval, 3))"
   ]
  },
  {
   "cell_type": "code",
   "execution_count": 109,
   "metadata": {},
   "outputs": [
    {
     "data": {
      "text/plain": [
       "Ttest_indResult(statistic=-0.8915051036699471, pvalue=0.38327144069452057)"
      ]
     },
     "execution_count": 109,
     "metadata": {},
     "output_type": "execute_result"
    }
   ],
   "source": [
    "stats.ttest_ind(mobile_d.values, mobile_r.values, equal_var=False)"
   ]
  },
  {
   "cell_type": "code",
   "execution_count": 44,
   "metadata": {},
   "outputs": [],
   "source": [
    "cyt_mobile_genes = np.intersect1d(cyt_genes, mobile_index)"
   ]
  },
  {
   "cell_type": "code",
   "execution_count": 68,
   "metadata": {},
   "outputs": [
    {
     "data": {
      "text/plain": [
       "<matplotlib.collections.PathCollection at 0x7fd3a074ea30>"
      ]
     },
     "execution_count": 68,
     "metadata": {},
     "output_type": "execute_result"
    },
    {
     "data": {
      "image/png": "[encoded data removed]",
      "text/plain": [
       "<Figure size 432x288 with 1 Axes>"
      ]
     },
     "metadata": {
      "needs_background": "light"
     },
     "output_type": "display_data"
    }
   ],
   "source": [
    "x = df_deltaN_lfc.loc[mobile_index, \"log2FC\"]\n",
    "y = df_mobile_value.loc[mobile_index, 'Unnamed: 14']\n",
    "plt.scatter(y, x)"
   ]
  },
  {
   "cell_type": "code",
   "execution_count": 62,
   "metadata": {},
   "outputs": [
    {
     "data": {
      "text/html": [
       "<div>\n",
       "<style scoped>\n",
       "    .dataframe tbody tr th:only-of-type {\n",
       "        vertical-align: middle;\n",
       "    }\n",
       "\n",
       "    .dataframe tbody tr th {\n",
       "        vertical-align: top;\n",
       "    }\n",
       "\n",
       "    .dataframe thead th {\n",
       "        text-align: right;\n",
       "    }\n",
       "</style>\n",
       "<table border=\"1\" class=\"dataframe\">\n",
       "  <thead>\n",
       "    <tr style=\"text-align: right;\">\n",
       "      <th></th>\n",
       "      <th>PED to COL</th>\n",
       "      <th>COL to PED</th>\n",
       "      <th>shoot to root</th>\n",
       "      <th>root to shoot</th>\n",
       "      <th>FN</th>\n",
       "      <th>-N</th>\n",
       "      <th>-P</th>\n",
       "      <th>root</th>\n",
       "      <th>rosette</th>\n",
       "      <th>lower stem</th>\n",
       "      <th>...</th>\n",
       "      <th>Unnamed: 1013</th>\n",
       "      <th>Unnamed: 1014</th>\n",
       "      <th>Unnamed: 1015</th>\n",
       "      <th>Unnamed: 1016</th>\n",
       "      <th>Unnamed: 1017</th>\n",
       "      <th>Unnamed: 1018</th>\n",
       "      <th>Unnamed: 1019</th>\n",
       "      <th>Unnamed: 1020</th>\n",
       "      <th>Unnamed: 1021</th>\n",
       "      <th>Unnamed: 1022</th>\n",
       "    </tr>\n",
       "  </thead>\n",
       "  <tbody>\n",
       "    <tr>\n",
       "      <th>AT1G01040</th>\n",
       "      <td>PED to COL</td>\n",
       "      <td>NaN</td>\n",
       "      <td>NaN</td>\n",
       "      <td>root to shoot</td>\n",
       "      <td>FN</td>\n",
       "      <td>NaN</td>\n",
       "      <td>NaN</td>\n",
       "      <td>NaN</td>\n",
       "      <td>NaN</td>\n",
       "      <td>NaN</td>\n",
       "      <td>...</td>\n",
       "      <td>NaN</td>\n",
       "      <td>NaN</td>\n",
       "      <td>NaN</td>\n",
       "      <td>NaN</td>\n",
       "      <td>NaN</td>\n",
       "      <td>NaN</td>\n",
       "      <td>NaN</td>\n",
       "      <td>NaN</td>\n",
       "      <td>NaN</td>\n",
       "      <td>NaN</td>\n",
       "    </tr>\n",
       "    <tr>\n",
       "      <th>AT1G01300</th>\n",
       "      <td>NaN</td>\n",
       "      <td>COL to PED</td>\n",
       "      <td>NaN</td>\n",
       "      <td>root to shoot</td>\n",
       "      <td>FN</td>\n",
       "      <td>NaN</td>\n",
       "      <td>NaN</td>\n",
       "      <td>NaN</td>\n",
       "      <td>NaN</td>\n",
       "      <td>NaN</td>\n",
       "      <td>...</td>\n",
       "      <td>NaN</td>\n",
       "      <td>NaN</td>\n",
       "      <td>NaN</td>\n",
       "      <td>NaN</td>\n",
       "      <td>NaN</td>\n",
       "      <td>NaN</td>\n",
       "      <td>NaN</td>\n",
       "      <td>NaN</td>\n",
       "      <td>NaN</td>\n",
       "      <td>NaN</td>\n",
       "    </tr>\n",
       "    <tr>\n",
       "      <th>AT1G01360</th>\n",
       "      <td>NaN</td>\n",
       "      <td>COL to PED</td>\n",
       "      <td>shoot to root</td>\n",
       "      <td>NaN</td>\n",
       "      <td>FN</td>\n",
       "      <td>NaN</td>\n",
       "      <td>NaN</td>\n",
       "      <td>NaN</td>\n",
       "      <td>NaN</td>\n",
       "      <td>NaN</td>\n",
       "      <td>...</td>\n",
       "      <td>NaN</td>\n",
       "      <td>NaN</td>\n",
       "      <td>NaN</td>\n",
       "      <td>NaN</td>\n",
       "      <td>NaN</td>\n",
       "      <td>NaN</td>\n",
       "      <td>NaN</td>\n",
       "      <td>NaN</td>\n",
       "      <td>NaN</td>\n",
       "      <td>NaN</td>\n",
       "    </tr>\n",
       "    <tr>\n",
       "      <th>AT1G01540</th>\n",
       "      <td>PED to COL</td>\n",
       "      <td>NaN</td>\n",
       "      <td>NaN</td>\n",
       "      <td>root to shoot</td>\n",
       "      <td>FN</td>\n",
       "      <td>NaN</td>\n",
       "      <td>NaN</td>\n",
       "      <td>NaN</td>\n",
       "      <td>True</td>\n",
       "      <td>NaN</td>\n",
       "      <td>...</td>\n",
       "      <td>NaN</td>\n",
       "      <td>NaN</td>\n",
       "      <td>NaN</td>\n",
       "      <td>NaN</td>\n",
       "      <td>NaN</td>\n",
       "      <td>NaN</td>\n",
       "      <td>NaN</td>\n",
       "      <td>NaN</td>\n",
       "      <td>NaN</td>\n",
       "      <td>NaN</td>\n",
       "    </tr>\n",
       "    <tr>\n",
       "      <th>AT1G01720</th>\n",
       "      <td>NaN</td>\n",
       "      <td>COL to PED</td>\n",
       "      <td>shoot to root</td>\n",
       "      <td>NaN</td>\n",
       "      <td>FN</td>\n",
       "      <td>NaN</td>\n",
       "      <td>NaN</td>\n",
       "      <td>True</td>\n",
       "      <td>NaN</td>\n",
       "      <td>NaN</td>\n",
       "      <td>...</td>\n",
       "      <td>NaN</td>\n",
       "      <td>NaN</td>\n",
       "      <td>NaN</td>\n",
       "      <td>NaN</td>\n",
       "      <td>NaN</td>\n",
       "      <td>NaN</td>\n",
       "      <td>NaN</td>\n",
       "      <td>NaN</td>\n",
       "      <td>NaN</td>\n",
       "      <td>NaN</td>\n",
       "    </tr>\n",
       "    <tr>\n",
       "      <th>...</th>\n",
       "      <td>...</td>\n",
       "      <td>...</td>\n",
       "      <td>...</td>\n",
       "      <td>...</td>\n",
       "      <td>...</td>\n",
       "      <td>...</td>\n",
       "      <td>...</td>\n",
       "      <td>...</td>\n",
       "      <td>...</td>\n",
       "      <td>...</td>\n",
       "      <td>...</td>\n",
       "      <td>...</td>\n",
       "      <td>...</td>\n",
       "      <td>...</td>\n",
       "      <td>...</td>\n",
       "      <td>...</td>\n",
       "      <td>...</td>\n",
       "      <td>...</td>\n",
       "      <td>...</td>\n",
       "      <td>...</td>\n",
       "      <td>...</td>\n",
       "    </tr>\n",
       "    <tr>\n",
       "      <th>AT5G67400</th>\n",
       "      <td>PED to COL</td>\n",
       "      <td>NaN</td>\n",
       "      <td>NaN</td>\n",
       "      <td>root to shoot</td>\n",
       "      <td>FN</td>\n",
       "      <td>NaN</td>\n",
       "      <td>NaN</td>\n",
       "      <td>NaN</td>\n",
       "      <td>True</td>\n",
       "      <td>NaN</td>\n",
       "      <td>...</td>\n",
       "      <td>NaN</td>\n",
       "      <td>NaN</td>\n",
       "      <td>NaN</td>\n",
       "      <td>NaN</td>\n",
       "      <td>NaN</td>\n",
       "      <td>NaN</td>\n",
       "      <td>NaN</td>\n",
       "      <td>NaN</td>\n",
       "      <td>NaN</td>\n",
       "      <td>NaN</td>\n",
       "    </tr>\n",
       "    <tr>\n",
       "      <th>AT5G67470</th>\n",
       "      <td>NaN</td>\n",
       "      <td>COL to PED</td>\n",
       "      <td>shoot to root</td>\n",
       "      <td>root to shoot</td>\n",
       "      <td>FN</td>\n",
       "      <td>NaN</td>\n",
       "      <td>NaN</td>\n",
       "      <td>NaN</td>\n",
       "      <td>NaN</td>\n",
       "      <td>NaN</td>\n",
       "      <td>...</td>\n",
       "      <td>NaN</td>\n",
       "      <td>NaN</td>\n",
       "      <td>NaN</td>\n",
       "      <td>NaN</td>\n",
       "      <td>NaN</td>\n",
       "      <td>NaN</td>\n",
       "      <td>NaN</td>\n",
       "      <td>NaN</td>\n",
       "      <td>NaN</td>\n",
       "      <td>NaN</td>\n",
       "    </tr>\n",
       "    <tr>\n",
       "      <th>AT5G67500</th>\n",
       "      <td>NaN</td>\n",
       "      <td>COL to PED</td>\n",
       "      <td>shoot to root</td>\n",
       "      <td>NaN</td>\n",
       "      <td>FN</td>\n",
       "      <td>NaN</td>\n",
       "      <td>NaN</td>\n",
       "      <td>True</td>\n",
       "      <td>NaN</td>\n",
       "      <td>NaN</td>\n",
       "      <td>...</td>\n",
       "      <td>NaN</td>\n",
       "      <td>NaN</td>\n",
       "      <td>NaN</td>\n",
       "      <td>NaN</td>\n",
       "      <td>NaN</td>\n",
       "      <td>NaN</td>\n",
       "      <td>NaN</td>\n",
       "      <td>NaN</td>\n",
       "      <td>NaN</td>\n",
       "      <td>NaN</td>\n",
       "    </tr>\n",
       "    <tr>\n",
       "      <th>AT5G67560</th>\n",
       "      <td>NaN</td>\n",
       "      <td>COL to PED</td>\n",
       "      <td>shoot to root</td>\n",
       "      <td>NaN</td>\n",
       "      <td>FN</td>\n",
       "      <td>NaN</td>\n",
       "      <td>NaN</td>\n",
       "      <td>True</td>\n",
       "      <td>NaN</td>\n",
       "      <td>NaN</td>\n",
       "      <td>...</td>\n",
       "      <td>NaN</td>\n",
       "      <td>NaN</td>\n",
       "      <td>NaN</td>\n",
       "      <td>NaN</td>\n",
       "      <td>NaN</td>\n",
       "      <td>NaN</td>\n",
       "      <td>NaN</td>\n",
       "      <td>NaN</td>\n",
       "      <td>NaN</td>\n",
       "      <td>NaN</td>\n",
       "    </tr>\n",
       "    <tr>\n",
       "      <th>AT5G67590</th>\n",
       "      <td>NaN</td>\n",
       "      <td>COL to PED</td>\n",
       "      <td>shoot to root</td>\n",
       "      <td>NaN</td>\n",
       "      <td>FN</td>\n",
       "      <td>NaN</td>\n",
       "      <td>NaN</td>\n",
       "      <td>True</td>\n",
       "      <td>NaN</td>\n",
       "      <td>NaN</td>\n",
       "      <td>...</td>\n",
       "      <td>NaN</td>\n",
       "      <td>NaN</td>\n",
       "      <td>NaN</td>\n",
       "      <td>NaN</td>\n",
       "      <td>NaN</td>\n",
       "      <td>NaN</td>\n",
       "      <td>NaN</td>\n",
       "      <td>NaN</td>\n",
       "      <td>NaN</td>\n",
       "      <td>NaN</td>\n",
       "    </tr>\n",
       "  </tbody>\n",
       "</table>\n",
       "<p>2006 rows × 1022 columns</p>\n",
       "</div>"
      ],
      "text/plain": [
       "           PED to COL  COL to PED  shoot to root  root to shoot  FN   -N   -P  \\\n",
       "AT1G01040  PED to COL         NaN            NaN  root to shoot  FN  NaN  NaN   \n",
       "AT1G01300         NaN  COL to PED            NaN  root to shoot  FN  NaN  NaN   \n",
       "AT1G01360         NaN  COL to PED  shoot to root            NaN  FN  NaN  NaN   \n",
       "AT1G01540  PED to COL         NaN            NaN  root to shoot  FN  NaN  NaN   \n",
       "AT1G01720         NaN  COL to PED  shoot to root            NaN  FN  NaN  NaN   \n",
       "...               ...         ...            ...            ...  ..  ...  ...   \n",
       "AT5G67400  PED to COL         NaN            NaN  root to shoot  FN  NaN  NaN   \n",
       "AT5G67470         NaN  COL to PED  shoot to root  root to shoot  FN  NaN  NaN   \n",
       "AT5G67500         NaN  COL to PED  shoot to root            NaN  FN  NaN  NaN   \n",
       "AT5G67560         NaN  COL to PED  shoot to root            NaN  FN  NaN  NaN   \n",
       "AT5G67590         NaN  COL to PED  shoot to root            NaN  FN  NaN  NaN   \n",
       "\n",
       "           root rosette lower stem  ... Unnamed: 1013 Unnamed: 1014  \\\n",
       "AT1G01040   NaN     NaN        NaN  ...           NaN           NaN   \n",
       "AT1G01300   NaN     NaN        NaN  ...           NaN           NaN   \n",
       "AT1G01360   NaN     NaN        NaN  ...           NaN           NaN   \n",
       "AT1G01540   NaN    True        NaN  ...           NaN           NaN   \n",
       "AT1G01720  True     NaN        NaN  ...           NaN           NaN   \n",
       "...         ...     ...        ...  ...           ...           ...   \n",
       "AT5G67400   NaN    True        NaN  ...           NaN           NaN   \n",
       "AT5G67470   NaN     NaN        NaN  ...           NaN           NaN   \n",
       "AT5G67500  True     NaN        NaN  ...           NaN           NaN   \n",
       "AT5G67560  True     NaN        NaN  ...           NaN           NaN   \n",
       "AT5G67590  True     NaN        NaN  ...           NaN           NaN   \n",
       "\n",
       "           Unnamed: 1015  Unnamed: 1016  Unnamed: 1017  Unnamed: 1018  \\\n",
       "AT1G01040            NaN            NaN            NaN            NaN   \n",
       "AT1G01300            NaN            NaN            NaN            NaN   \n",
       "AT1G01360            NaN            NaN            NaN            NaN   \n",
       "AT1G01540            NaN            NaN            NaN            NaN   \n",
       "AT1G01720            NaN            NaN            NaN            NaN   \n",
       "...                  ...            ...            ...            ...   \n",
       "AT5G67400            NaN            NaN            NaN            NaN   \n",
       "AT5G67470            NaN            NaN            NaN            NaN   \n",
       "AT5G67500            NaN            NaN            NaN            NaN   \n",
       "AT5G67560            NaN            NaN            NaN            NaN   \n",
       "AT5G67590            NaN            NaN            NaN            NaN   \n",
       "\n",
       "           Unnamed: 1019  Unnamed: 1020  Unnamed: 1021  Unnamed: 1022  \n",
       "AT1G01040            NaN            NaN            NaN            NaN  \n",
       "AT1G01300            NaN            NaN            NaN            NaN  \n",
       "AT1G01360            NaN            NaN            NaN            NaN  \n",
       "AT1G01540            NaN            NaN            NaN            NaN  \n",
       "AT1G01720            NaN            NaN            NaN            NaN  \n",
       "...                  ...            ...            ...            ...  \n",
       "AT5G67400            NaN            NaN            NaN            NaN  \n",
       "AT5G67470            NaN            NaN            NaN            NaN  \n",
       "AT5G67500            NaN            NaN            NaN            NaN  \n",
       "AT5G67560            NaN            NaN            NaN            NaN  \n",
       "AT5G67590            NaN            NaN            NaN            NaN  \n",
       "\n",
       "[2006 rows x 1022 columns]"
      ]
     },
     "execution_count": 62,
     "metadata": {},
     "output_type": "execute_result"
    }
   ],
   "source": [
    "df_mobile_value"
   ]
  },
  {
   "cell_type": "code",
   "execution_count": 310,
   "metadata": {},
   "outputs": [],
   "source": [
    "nuc = df_deltaN_lfc.loc[nuc_genes, \"log2FC\"].dropna().values\n",
    "cyt = df_deltaN_lfc.loc[cyt_genes, \"log2FC\"].dropna().values\n",
    "mobile = df_deltaN_lfc.loc[mobile_genes, \"log2FC\"].dropna().values\n",
    "non_mobile = df_deltaN_lfc.loc[non_mobile_genes, \"log2FC\"].dropna().values\n",
    "nuc_mobile = df_deltaN_lfc.loc[np.intersect1d(nuc_genes, mobile_genes), \"log2FC\"].dropna().values\n",
    "nuc_non_mobile = df_deltaN_lfc.loc[np.intersect1d(nuc_genes, non_mobile_genes), \"log2FC\"].dropna().values\n",
    "cyt_mobile = df_deltaN_lfc.loc[np.intersect1d(cyt_genes, mobile_genes), \"log2FC\"].dropna().values\n",
    "cyt_non_mobile = df_deltaN_lfc.loc[np.intersect1d(cyt_genes, non_mobile_genes), \"log2FC\"].dropna().values"
   ]
  },
  {
   "cell_type": "code",
   "execution_count": 311,
   "metadata": {},
   "outputs": [
    {
     "data": {
      "text/plain": [
       "{'bodies': [<matplotlib.collections.PolyCollection at 0x7f8238c32130>,\n",
       "  <matplotlib.collections.PolyCollection at 0x7f8238c3eee0>,\n",
       "  <matplotlib.collections.PolyCollection at 0x7f82395a5040>,\n",
       "  <matplotlib.collections.PolyCollection at 0x7f8238c1efd0>],\n",
       " 'cmaxes': <matplotlib.collections.LineCollection at 0x7f8238c32d90>,\n",
       " 'cmins': <matplotlib.collections.LineCollection at 0x7f8238d05940>,\n",
       " 'cbars': <matplotlib.collections.LineCollection at 0x7f8238d05640>}"
      ]
     },
     "execution_count": 311,
     "metadata": {},
     "output_type": "execute_result"
    },
    {
     "data": {
      "image/png": "[encoded data removed]",
      "text/plain": [
       "<Figure size 432x288 with 1 Axes>"
      ]
     },
     "metadata": {
      "needs_background": "light"
     },
     "output_type": "display_data"
    }
   ],
   "source": [
    "plt.violinplot([nuc_mobile, nuc_non_mobile, cyt_mobile, cyt_non_mobile])"
   ]
  },
  {
   "cell_type": "code",
   "execution_count": 312,
   "metadata": {},
   "outputs": [],
   "source": [
    "df_nuc_mobile = pd.DataFrame({\"nuc_mobile\":nuc_mobile})\n",
    "df_nuc_non_mobile = pd.DataFrame({\"nuc_non_mobile\":nuc_non_mobile})\n",
    "df_cyt_mobile = pd.DataFrame({\"cyt_mobile\":cyt_mobile})\n",
    "df_cyt_non_mobile = pd.DataFrame({\"cyt_non_mobile\":cyt_non_mobile})"
   ]
  },
  {
   "cell_type": "code",
   "execution_count": 313,
   "metadata": {},
   "outputs": [],
   "source": [
    "df_cat = pd.concat([df_nuc_mobile, df_nuc_non_mobile, df_cyt_mobile, df_cyt_non_mobile], axis=1)\n",
    "df_cat_melt = df_cat.melt()"
   ]
  },
  {
   "cell_type": "code",
   "execution_count": 314,
   "metadata": {},
   "outputs": [
    {
     "data": {
      "text/html": [
       "<div>\n",
       "<style scoped>\n",
       "    .dataframe tbody tr th:only-of-type {\n",
       "        vertical-align: middle;\n",
       "    }\n",
       "\n",
       "    .dataframe tbody tr th {\n",
       "        vertical-align: top;\n",
       "    }\n",
       "\n",
       "    .dataframe thead th {\n",
       "        text-align: right;\n",
       "    }\n",
       "</style>\n",
       "<table border=\"1\" class=\"dataframe\">\n",
       "  <thead>\n",
       "    <tr style=\"text-align: right;\">\n",
       "      <th></th>\n",
       "      <th>variable</th>\n",
       "      <th>value</th>\n",
       "    </tr>\n",
       "  </thead>\n",
       "  <tbody>\n",
       "    <tr>\n",
       "      <th>0</th>\n",
       "      <td>nuc_mobile</td>\n",
       "      <td>-0.268931</td>\n",
       "    </tr>\n",
       "    <tr>\n",
       "      <th>1</th>\n",
       "      <td>nuc_mobile</td>\n",
       "      <td>0.454169</td>\n",
       "    </tr>\n",
       "    <tr>\n",
       "      <th>2</th>\n",
       "      <td>nuc_mobile</td>\n",
       "      <td>0.546842</td>\n",
       "    </tr>\n",
       "    <tr>\n",
       "      <th>3</th>\n",
       "      <td>nuc_mobile</td>\n",
       "      <td>-0.067023</td>\n",
       "    </tr>\n",
       "    <tr>\n",
       "      <th>4</th>\n",
       "      <td>nuc_mobile</td>\n",
       "      <td>-0.089388</td>\n",
       "    </tr>\n",
       "    <tr>\n",
       "      <th>...</th>\n",
       "      <td>...</td>\n",
       "      <td>...</td>\n",
       "    </tr>\n",
       "    <tr>\n",
       "      <th>11267</th>\n",
       "      <td>cyt_non_mobile</td>\n",
       "      <td>0.304629</td>\n",
       "    </tr>\n",
       "    <tr>\n",
       "      <th>11268</th>\n",
       "      <td>cyt_non_mobile</td>\n",
       "      <td>0.578499</td>\n",
       "    </tr>\n",
       "    <tr>\n",
       "      <th>11269</th>\n",
       "      <td>cyt_non_mobile</td>\n",
       "      <td>0.090531</td>\n",
       "    </tr>\n",
       "    <tr>\n",
       "      <th>11270</th>\n",
       "      <td>cyt_non_mobile</td>\n",
       "      <td>0.506427</td>\n",
       "    </tr>\n",
       "    <tr>\n",
       "      <th>11271</th>\n",
       "      <td>cyt_non_mobile</td>\n",
       "      <td>0.500798</td>\n",
       "    </tr>\n",
       "  </tbody>\n",
       "</table>\n",
       "<p>11272 rows × 2 columns</p>\n",
       "</div>"
      ],
      "text/plain": [
       "             variable     value\n",
       "0          nuc_mobile -0.268931\n",
       "1          nuc_mobile  0.454169\n",
       "2          nuc_mobile  0.546842\n",
       "3          nuc_mobile -0.067023\n",
       "4          nuc_mobile -0.089388\n",
       "...               ...       ...\n",
       "11267  cyt_non_mobile  0.304629\n",
       "11268  cyt_non_mobile  0.578499\n",
       "11269  cyt_non_mobile  0.090531\n",
       "11270  cyt_non_mobile  0.506427\n",
       "11271  cyt_non_mobile  0.500798\n",
       "\n",
       "[11272 rows x 2 columns]"
      ]
     },
     "execution_count": 314,
     "metadata": {},
     "output_type": "execute_result"
    }
   ],
   "source": [
    "df_cat_melt"
   ]
  },
  {
   "cell_type": "code",
   "execution_count": 315,
   "metadata": {},
   "outputs": [
    {
     "data": {
      "text/plain": [
       "<AxesSubplot:xlabel='variable', ylabel='value'>"
      ]
     },
     "execution_count": 315,
     "metadata": {},
     "output_type": "execute_result"
    },
    {
     "data": {
      "image/png": "[encoded data removed]",
      "text/plain": [
       "<Figure size 432x288 with 1 Axes>"
      ]
     },
     "metadata": {
      "needs_background": "light"
     },
     "output_type": "display_data"
    }
   ],
   "source": [
    "sns.violinplot(x='variable', y='value', data=df_cat_melt)"
   ]
  },
  {
   "cell_type": "code",
   "execution_count": 316,
   "metadata": {},
   "outputs": [
    {
     "data": {
      "text/plain": [
       "<AxesSubplot:xlabel='variable', ylabel='value'>"
      ]
     },
     "execution_count": 316,
     "metadata": {},
     "output_type": "execute_result"
    },
    {
     "data": {
      "image/png": "[encoded data removed]",
      "text/plain": [
       "<Figure size 432x288 with 1 Axes>"
      ]
     },
     "metadata": {
      "needs_background": "light"
     },
     "output_type": "display_data"
    }
   ],
   "source": [
    "df_nuc = pd.DataFrame({\"nuc\":nuc})\n",
    "df_cyt = pd.DataFrame({\"cyt\":cyt})\n",
    "df_cat_loc_melt = pd.concat([df_nuc, df_cyt], axis=1).melt()\n",
    "sns.violinplot(x='variable', y='value', data=df_cat_loc_melt)"
   ]
  },
  {
   "cell_type": "code",
   "execution_count": 167,
   "metadata": {},
   "outputs": [
    {
     "data": {
      "text/plain": [
       "<AxesSubplot:xlabel='variable', ylabel='value'>"
      ]
     },
     "execution_count": 167,
     "metadata": {},
     "output_type": "execute_result"
    },
    {
     "data": {
      "image/png": "[encoded data removed]",
      "text/plain": [
       "<Figure size 432x288 with 1 Axes>"
      ]
     },
     "metadata": {
      "needs_background": "light"
     },
     "output_type": "display_data"
    }
   ],
   "source": [
    "df_m = pd.DataFrame({\"mobile\":mobile})\n",
    "df_n_m = pd.DataFrame({\"non-mobile\":non_mobile})\n",
    "df_cat_loc_melt = pd.concat([df_m, df_n_m], axis=1).melt()\n",
    "sns.violinplot(x='variable', y='value', data=df_cat_loc_melt)"
   ]
  },
  {
   "cell_type": "code",
   "execution_count": 207,
   "metadata": {},
   "outputs": [
    {
     "data": {
      "text/plain": [
       "array([0.025883  , 0.11038148, 2.85040787, ..., 0.01682886, 0.00963853,\n",
       "       0.05811176])"
      ]
     },
     "execution_count": 207,
     "metadata": {},
     "output_type": "execute_result"
    }
   ],
   "source": [
    "np.abs(mobile)"
   ]
  },
  {
   "cell_type": "code",
   "execution_count": 190,
   "metadata": {},
   "outputs": [
    {
     "name": "stderr",
     "output_type": "stream",
     "text": [
      "/Users/siomi19/opt/anaconda3/lib/python3.9/site-packages/pandas/util/_decorators.py:311: ParserWarning: Falling back to the 'python' engine because the 'c' engine does not support skipfooter; you can avoid this warning by specifying engine='python'.\n",
      "  return func(*args, **kwargs)\n"
     ]
    }
   ],
   "source": [
    "df_mobile_value = pd.read_csv('/Users/siomi19/Desktop/AtAgo1 RNA-seq/Thieme et al., 2015/41477_2015_BFnplants201525_MOESM2_ESM_1.txt', header=1, index_col=0, sep=\"\\t\", skipfooter=1)\n",
    "mobile_value_index = np.setdiff1d(df_mobile_value.index, ['AT1G30835', 'AT1G46554', 'AT1G67105', 'AT2G13970', 'AT2G14878', 'AT2G22821', 'AT2G26355', 'AT3G06125', 'AT3G15536', 'AT3G22121', 'AT3G44798', 'AT3G54366', 'AT5G28626', 'AT5G59732'])"
   ]
  },
  {
   "cell_type": "code",
   "execution_count": 252,
   "metadata": {},
   "outputs": [
    {
     "data": {
      "text/plain": [
       "<matplotlib.collections.PathCollection at 0x7f82300657c0>"
      ]
     },
     "execution_count": 252,
     "metadata": {},
     "output_type": "execute_result"
    },
    {
     "data": {
      "image/png": "[encoded data removed]",
      "text/plain": [
       "<Figure size 432x288 with 1 Axes>"
      ]
     },
     "metadata": {
      "needs_background": "light"
     },
     "output_type": "display_data"
    }
   ],
   "source": [
    "plt.scatter(df_mobile_value.loc[mobile_value_index, 'Unnamed: 14'], df_deltaN_lfc.loc[mobile_value_index, \"log2FC\"])\n",
    "# plt.axis('square')\n",
    "# plt.ylim(-5,4)"
   ]
  },
  {
   "cell_type": "code",
   "execution_count": 271,
   "metadata": {},
   "outputs": [],
   "source": [
    "not_exist = not_exist + ['AT1G67105', 'AT2G13970', 'AT2G22821', 'AT2G26355', 'AT3G06125', 'AT3G15536', 'AT3G22121', 'AT3G44798']"
   ]
  },
  {
   "cell_type": "code",
   "execution_count": 277,
   "metadata": {},
   "outputs": [],
   "source": [
    "not_exist = list(set(not_exist))"
   ]
  },
  {
   "cell_type": "code",
   "execution_count": 291,
   "metadata": {},
   "outputs": [
    {
     "data": {
      "text/plain": [
       "<AxesSubplot:xlabel='variable', ylabel='value'>"
      ]
     },
     "execution_count": 291,
     "metadata": {},
     "output_type": "execute_result"
    },
    {
     "data": {
      "image/png": "[encoded data removed]",
      "text/plain": [
       "<Figure size 576x432 with 1 Axes>"
      ]
     },
     "metadata": {
      "needs_background": "light"
     },
     "output_type": "display_data"
    }
   ],
   "source": [
    "d = ['PED to COL', 'COL to PED', 'shoot to root', 'root to shoot']\n",
    "\n",
    "mobile_d_index = list(df_mobile_value[d[0]].dropna().index)\n",
    "mobile_r_index = list(df_mobile_value[d[1]].dropna().index)\n",
    "\n",
    "for ne in ['AT1G30835', 'AT1G46554', 'AT2G14878', 'AT3G54366', 'AT5G28626', 'AT5G59732', 'AT1G67105', 'AT2G13970', 'AT2G22821', 'AT2G26355', 'AT3G06125', 'AT3G15536', 'AT3G22121', 'AT3G44798']:\n",
    "    try:\n",
    "        mobile_d_index.remove(ne)\n",
    "    except ValueError:\n",
    "        pass\n",
    "for ne in ['AT1G30835', 'AT1G46554', 'AT2G14878', 'AT3G54366', 'AT5G28626', 'AT5G59732', 'AT1G67105', 'AT2G13970', 'AT2G22821', 'AT2G26355', 'AT3G06125', 'AT3G15536', 'AT3G22121', 'AT3G44798']:\n",
    "    try:\n",
    "        mobile_r_index.remove(ne)\n",
    "    except ValueError:\n",
    "        pass\n",
    "mobile_d = df_deltaN_lfc.loc[mobile_d_index, \"log2FC\"]\n",
    "mobile_r = df_deltaN_lfc.loc[mobile_r_index, \"log2FC\"]\n",
    "\n",
    "df_d = pd.DataFrame({f\"mobile ( {d[0]} )\":mobile_d})\n",
    "df_r = pd.DataFrame({f\"mobile ( {d[1]} )\":mobile_r})\n",
    "df_cat_loc_t_melt = pd.concat([df_d, df_r], axis=1).melt()\n",
    "plt.figure(figsize=(8,6))\n",
    "sns.violinplot(x='variable', y='value', data=df_cat_loc_t_melt)"
   ]
  },
  {
   "cell_type": "code",
   "execution_count": 292,
   "metadata": {},
   "outputs": [
    {
     "data": {
      "text/plain": [
       "<AxesSubplot:xlabel='variable', ylabel='value'>"
      ]
     },
     "execution_count": 292,
     "metadata": {},
     "output_type": "execute_result"
    },
    {
     "data": {
      "image/png": "[encoded data removed]",
      "text/plain": [
       "<Figure size 576x432 with 1 Axes>"
      ]
     },
     "metadata": {
      "needs_background": "light"
     },
     "output_type": "display_data"
    }
   ],
   "source": [
    "d = ['PED to COL', 'COL to PED', 'shoot to root', 'root to shoot']\n",
    "\n",
    "mobile_d_index = list(df_mobile_value[d[2]].dropna().index)\n",
    "mobile_r_index = list(df_mobile_value[d[3]].dropna().index)\n",
    "\n",
    "for ne in ['AT1G30835', 'AT1G46554', 'AT2G14878', 'AT3G54366', 'AT5G28626', 'AT5G59732', 'AT1G67105', 'AT2G13970', 'AT2G22821', 'AT2G26355', 'AT3G06125', 'AT3G15536', 'AT3G22121', 'AT3G44798']:\n",
    "    try:\n",
    "        mobile_d_index.remove(ne)\n",
    "    except ValueError:\n",
    "        pass\n",
    "for ne in ['AT1G30835', 'AT1G46554', 'AT2G14878', 'AT3G54366', 'AT5G28626', 'AT5G59732', 'AT1G67105', 'AT2G13970', 'AT2G22821', 'AT2G26355', 'AT3G06125', 'AT3G15536', 'AT3G22121', 'AT3G44798']:\n",
    "    try:\n",
    "        mobile_r_index.remove(ne)\n",
    "    except ValueError:\n",
    "        pass\n",
    "mobile_d = df_deltaN_lfc.loc[mobile_d_index, \"log2FC\"]\n",
    "mobile_r = df_deltaN_lfc.loc[mobile_r_index, \"log2FC\"]\n",
    "\n",
    "df_d = pd.DataFrame({f\"mobile ( {d[2]} )\":mobile_d})\n",
    "df_r = pd.DataFrame({f\"mobile ( {d[3]} )\":mobile_r})\n",
    "df_cat_loc_t_melt = pd.concat([df_d, df_r], axis=1).melt()\n",
    "plt.figure(figsize=(8,6))\n",
    "sns.violinplot(x='variable', y='value', data=df_cat_loc_t_melt)"
   ]
  },
  {
   "cell_type": "code",
   "execution_count": 318,
   "metadata": {},
   "outputs": [
    {
     "data": {
      "text/plain": [
       "<AxesSubplot:xlabel='variable', ylabel='value'>"
      ]
     },
     "execution_count": 318,
     "metadata": {},
     "output_type": "execute_result"
    },
    {
     "data": {
      "image/png": "[encoded data removed]",
      "text/plain": [
       "<Figure size 576x432 with 1 Axes>"
      ]
     },
     "metadata": {
      "needs_background": "light"
     },
     "output_type": "display_data"
    }
   ],
   "source": [
    "d = ['PED to COL', 'COL to PED', 'shoot to root', 'root to shoot']\n",
    "\n",
    "mobile_d_index = list(df_mobile_value[d[2]].dropna().index)\n",
    "mobile_r_index = list(df_mobile_value[d[3]].dropna().index)\n",
    "\n",
    "for ne in ['AT1G30835', 'AT1G46554', 'AT2G14878', 'AT3G54366', 'AT5G28626', 'AT5G59732', 'AT1G67105', 'AT2G13970', 'AT2G22821', 'AT2G26355', 'AT3G06125', 'AT3G15536', 'AT3G22121', 'AT3G44798']:\n",
    "    try:\n",
    "        mobile_d_index.remove(ne)\n",
    "    except ValueError:\n",
    "        pass\n",
    "for ne in ['AT1G30835', 'AT1G46554', 'AT2G14878', 'AT3G54366', 'AT5G28626', 'AT5G59732', 'AT1G67105', 'AT2G13970', 'AT2G22821', 'AT2G26355', 'AT3G06125', 'AT3G15536', 'AT3G22121', 'AT3G44798']:\n",
    "    try:\n",
    "        mobile_r_index.remove(ne)\n",
    "    except ValueError:\n",
    "        pass\n",
    "mobile_d = df_deltaN_lfc.loc[np.intersect1d(cyt_genes, mobile_d_index), \"log2FC\"]\n",
    "mobile_d = df_deltaN_lfc.loc[np.intersect1d(cyt_genes, mobile_r_index), \"log2FC\"]\n",
    "\n",
    "df_d = pd.DataFrame({f\"mobile ( {d[2]} )\":mobile_d})\n",
    "df_r = pd.DataFrame({f\"mobile ( {d[3]} )\":mobile_r})\n",
    "df_cat_loc_t_melt = pd.concat([df_d, df_r], axis=1).melt()\n",
    "plt.figure(figsize=(8,6))\n",
    "sns.violinplot(x='variable', y='value', data=df_cat_loc_t_melt)"
   ]
  },
  {
   "cell_type": "code",
   "execution_count": 139,
   "metadata": {},
   "outputs": [
    {
     "data": {
      "text/plain": [
       "<AxesSubplot:xlabel='variable', ylabel='value'>"
      ]
     },
     "execution_count": 139,
     "metadata": {},
     "output_type": "execute_result"
    },
    {
     "data": {
      "image/png": "[encoded data removed]",
      "text/plain": [
       "<Figure size 576x432 with 1 Axes>"
      ]
     },
     "metadata": {
      "needs_background": "light"
     },
     "output_type": "display_data"
    },
    {
     "data": {
      "image/png": "[encoded data removed]",
      "text/plain": [
       "<Figure size 576x432 with 1 Axes>"
      ]
     },
     "metadata": {
      "needs_background": "light"
     },
     "output_type": "display_data"
    }
   ],
   "source": [
    "d = ['PED to COL', 'COL to PED', 'shoot to root', 'root to shoot']\n",
    "\n",
    "mobile_d_index = list(df_mobile_value[d[0]].dropna().index)\n",
    "mobile_r_index = list(df_mobile_value[d[1]].dropna().index)\n",
    "\n",
    "for ne in ['AT1G30835', 'AT1G46554', 'AT2G14878', 'AT3G54366', 'AT5G28626', 'AT5G59732', 'AT1G67105', 'AT2G13970', 'AT2G22821', 'AT2G26355', 'AT3G06125', 'AT3G15536', 'AT3G22121', 'AT3G44798']:\n",
    "    try:\n",
    "        mobile_d_index.remove(ne)\n",
    "    except ValueError:\n",
    "        pass\n",
    "for ne in ['AT1G30835', 'AT1G46554', 'AT2G14878', 'AT3G54366', 'AT5G28626', 'AT5G59732', 'AT1G67105', 'AT2G13970', 'AT2G22821', 'AT2G26355', 'AT3G06125', 'AT3G15536', 'AT3G22121', 'AT3G44798']:\n",
    "    try:\n",
    "        mobile_r_index.remove(ne)\n",
    "    except ValueError:\n",
    "        pass\n",
    "mobile_d = df_deltaN_lfc.loc[np.intersect1d(cyt_genes, mobile_d_index), \"log2FC\"]\n",
    "mobile_r = df_deltaN_lfc.loc[np.intersect1d(cyt_genes, mobile_r_index), \"log2FC\"]\n",
    "\n",
    "df_d = pd.DataFrame({f\"mobile ( {d[0]} )\":mobile_d})\n",
    "df_r = pd.DataFrame({f\"mobile ( {d[1]} )\":mobile_r})\n",
    "df_cat_loc_t_melt = pd.concat([df_d, df_r], axis=1).melt()\n",
    "plt.figure(figsize=(8,6))\n",
    "sns.violinplot(x='variable', y='value', data=df_cat_loc_t_melt)\n",
    "plt.figure(figsize=(8,6))\n",
    "sns.boxplot(x='variable', y='value', data=df_cat_loc_t_melt)"
   ]
  },
  {
   "cell_type": "code",
   "execution_count": 246,
   "metadata": {},
   "outputs": [],
   "source": [
    "x = pd.DataFrame(df_mobile_value.loc[mobile_value_index, 'Unnamed: 14'])\n",
    "x.columns = [\"col\"]\n",
    "y = pd.DataFrame(df_deltaN_lfc.loc[mobile_value_index, \"log2FC\"])\n",
    "y.columns = [\"col\"]"
   ]
  },
  {
   "cell_type": "code",
   "execution_count": 247,
   "metadata": {},
   "outputs": [],
   "source": [
    "res=x.corrwith(y)"
   ]
  },
  {
   "cell_type": "code",
   "execution_count": 248,
   "metadata": {},
   "outputs": [
    {
     "name": "stdout",
     "output_type": "stream",
     "text": [
      "col    0.011589\n",
      "dtype: float64\n"
     ]
    }
   ],
   "source": [
    "print(res)"
   ]
  },
  {
   "cell_type": "code",
   "execution_count": null,
   "metadata": {},
   "outputs": [],
   "source": [
    "d"
   ]
  },
  {
   "cell_type": "code",
   "execution_count": 249,
   "metadata": {},
   "outputs": [
    {
     "data": {
      "text/html": [
       "<div>\n",
       "<style scoped>\n",
       "    .dataframe tbody tr th:only-of-type {\n",
       "        vertical-align: middle;\n",
       "    }\n",
       "\n",
       "    .dataframe tbody tr th {\n",
       "        vertical-align: top;\n",
       "    }\n",
       "\n",
       "    .dataframe thead th {\n",
       "        text-align: right;\n",
       "    }\n",
       "</style>\n",
       "<table border=\"1\" class=\"dataframe\">\n",
       "  <thead>\n",
       "    <tr style=\"text-align: right;\">\n",
       "      <th></th>\n",
       "      <th>col</th>\n",
       "    </tr>\n",
       "  </thead>\n",
       "  <tbody>\n",
       "    <tr>\n",
       "      <th>AT1G01040</th>\n",
       "      <td>-6.074677</td>\n",
       "    </tr>\n",
       "    <tr>\n",
       "      <th>AT1G01300</th>\n",
       "      <td>-6.004501</td>\n",
       "    </tr>\n",
       "    <tr>\n",
       "      <th>AT1G01360</th>\n",
       "      <td>-5.638074</td>\n",
       "    </tr>\n",
       "    <tr>\n",
       "      <th>AT1G01540</th>\n",
       "      <td>-4.722466</td>\n",
       "    </tr>\n",
       "    <tr>\n",
       "      <th>AT1G01720</th>\n",
       "      <td>-6.364667</td>\n",
       "    </tr>\n",
       "    <tr>\n",
       "      <th>...</th>\n",
       "      <td>...</td>\n",
       "    </tr>\n",
       "    <tr>\n",
       "      <th>AT5G67400</th>\n",
       "      <td>2.321928</td>\n",
       "    </tr>\n",
       "    <tr>\n",
       "      <th>AT5G67470</th>\n",
       "      <td>-4.915965</td>\n",
       "    </tr>\n",
       "    <tr>\n",
       "      <th>AT5G67500</th>\n",
       "      <td>-6.090995</td>\n",
       "    </tr>\n",
       "    <tr>\n",
       "      <th>AT5G67560</th>\n",
       "      <td>-6.684287</td>\n",
       "    </tr>\n",
       "    <tr>\n",
       "      <th>AT5G67590</th>\n",
       "      <td>-6.264443</td>\n",
       "    </tr>\n",
       "  </tbody>\n",
       "</table>\n",
       "<p>1992 rows × 1 columns</p>\n",
       "</div>"
      ],
      "text/plain": [
       "                col\n",
       "AT1G01040 -6.074677\n",
       "AT1G01300 -6.004501\n",
       "AT1G01360 -5.638074\n",
       "AT1G01540 -4.722466\n",
       "AT1G01720 -6.364667\n",
       "...             ...\n",
       "AT5G67400  2.321928\n",
       "AT5G67470 -4.915965\n",
       "AT5G67500 -6.090995\n",
       "AT5G67560 -6.684287\n",
       "AT5G67590 -6.264443\n",
       "\n",
       "[1992 rows x 1 columns]"
      ]
     },
     "execution_count": 249,
     "metadata": {},
     "output_type": "execute_result"
    }
   ],
   "source": [
    "x"
   ]
  },
  {
   "cell_type": "code",
   "execution_count": 250,
   "metadata": {},
   "outputs": [
    {
     "data": {
      "text/html": [
       "<div>\n",
       "<style scoped>\n",
       "    .dataframe tbody tr th:only-of-type {\n",
       "        vertical-align: middle;\n",
       "    }\n",
       "\n",
       "    .dataframe tbody tr th {\n",
       "        vertical-align: top;\n",
       "    }\n",
       "\n",
       "    .dataframe thead th {\n",
       "        text-align: right;\n",
       "    }\n",
       "</style>\n",
       "<table border=\"1\" class=\"dataframe\">\n",
       "  <thead>\n",
       "    <tr style=\"text-align: right;\">\n",
       "      <th></th>\n",
       "      <th>col</th>\n",
       "    </tr>\n",
       "  </thead>\n",
       "  <tbody>\n",
       "    <tr>\n",
       "      <th>AT1G01040</th>\n",
       "      <td>0.161664</td>\n",
       "    </tr>\n",
       "    <tr>\n",
       "      <th>AT1G01300</th>\n",
       "      <td>0.130459</td>\n",
       "    </tr>\n",
       "    <tr>\n",
       "      <th>AT1G01360</th>\n",
       "      <td>0.038612</td>\n",
       "    </tr>\n",
       "    <tr>\n",
       "      <th>AT1G01540</th>\n",
       "      <td>0.346974</td>\n",
       "    </tr>\n",
       "    <tr>\n",
       "      <th>AT1G01720</th>\n",
       "      <td>-0.261326</td>\n",
       "    </tr>\n",
       "    <tr>\n",
       "      <th>...</th>\n",
       "      <td>...</td>\n",
       "    </tr>\n",
       "    <tr>\n",
       "      <th>AT5G67400</th>\n",
       "      <td>-0.701112</td>\n",
       "    </tr>\n",
       "    <tr>\n",
       "      <th>AT5G67470</th>\n",
       "      <td>0.471497</td>\n",
       "    </tr>\n",
       "    <tr>\n",
       "      <th>AT5G67500</th>\n",
       "      <td>-0.016829</td>\n",
       "    </tr>\n",
       "    <tr>\n",
       "      <th>AT5G67560</th>\n",
       "      <td>-0.009639</td>\n",
       "    </tr>\n",
       "    <tr>\n",
       "      <th>AT5G67590</th>\n",
       "      <td>0.058112</td>\n",
       "    </tr>\n",
       "  </tbody>\n",
       "</table>\n",
       "<p>1992 rows × 1 columns</p>\n",
       "</div>"
      ],
      "text/plain": [
       "                col\n",
       "AT1G01040  0.161664\n",
       "AT1G01300  0.130459\n",
       "AT1G01360  0.038612\n",
       "AT1G01540  0.346974\n",
       "AT1G01720 -0.261326\n",
       "...             ...\n",
       "AT5G67400 -0.701112\n",
       "AT5G67470  0.471497\n",
       "AT5G67500 -0.016829\n",
       "AT5G67560 -0.009639\n",
       "AT5G67590  0.058112\n",
       "\n",
       "[1992 rows x 1 columns]"
      ]
     },
     "execution_count": 250,
     "metadata": {},
     "output_type": "execute_result"
    }
   ],
   "source": [
    "y"
   ]
  },
  {
   "cell_type": "code",
   "execution_count": null,
   "metadata": {},
   "outputs": [],
   "source": []
  }
 ],
 "metadata": {
  "kernelspec": {
   "display_name": "Python 3.9.7 ('base')",
   "language": "python",
   "name": "python3"
  },
  "language_info": {
   "codemirror_mode": {
    "name": "ipython",
    "version": 3
   },
   "file_extension": ".py",
   "mimetype": "text/x-python",
   "name": "python",
   "nbconvert_exporter": "python",
   "pygments_lexer": "ipython3",
   "version": "3.9.7"
  },
  "orig_nbformat": 4,
  "vscode": {
   "interpreter": {
    "hash": "3c8f3b66fce7f3ff84ca19ca87e93a04e90d17618139d6c165f93d527107e1fd"
   }
  }
 },
 "nbformat": 4,
 "nbformat_minor": 2
}
